{
 "cells": [
  {
   "cell_type": "code",
   "execution_count": 7,
   "metadata": {},
   "outputs": [],
   "source": [
    "import pandas as pd\n",
    "import os\n",
    "import json\n",
    "import re\n",
    "from tqdm import tqdm"
   ]
  },
  {
   "cell_type": "code",
   "execution_count": null,
   "metadata": {},
   "outputs": [
    {
     "data": {
      "text/html": [
       "<div>\n",
       "<style scoped>\n",
       "    .dataframe tbody tr th:only-of-type {\n",
       "        vertical-align: middle;\n",
       "    }\n",
       "\n",
       "    .dataframe tbody tr th {\n",
       "        vertical-align: top;\n",
       "    }\n",
       "\n",
       "    .dataframe thead th {\n",
       "        text-align: right;\n",
       "    }\n",
       "</style>\n",
       "<table border=\"1\" class=\"dataframe\">\n",
       "  <thead>\n",
       "    <tr style=\"text-align: right;\">\n",
       "      <th></th>\n",
       "      <th>catalog</th>\n",
       "      <th>files_links</th>\n",
       "      <th>url</th>\n",
       "      <th>title</th>\n",
       "      <th>content</th>\n",
       "    </tr>\n",
       "  </thead>\n",
       "  <tbody>\n",
       "    <tr>\n",
       "      <th>0</th>\n",
       "      <td>accounts</td>\n",
       "      <td>[/content/dam/hsbc/hk/docs/premier/accounts-co...</td>\n",
       "      <td>https://www.hsbc.com.hk/accounts/</td>\n",
       "      <td>Bank Accounts | Savings, Current, Time Deposit...</td>\n",
       "      <td>&lt;!DOCTYPE html&gt;&lt;html lang=\"en-hk\" dir=\"ltr\" it...</td>\n",
       "    </tr>\n",
       "  </tbody>\n",
       "</table>\n",
       "</div>"
      ],
      "text/plain": [
       "    catalog                                        files_links  \\\n",
       "0  accounts  [/content/dam/hsbc/hk/docs/premier/accounts-co...   \n",
       "\n",
       "                                 url  \\\n",
       "0  https://www.hsbc.com.hk/accounts/   \n",
       "\n",
       "                                               title  \\\n",
       "0  Bank Accounts | Savings, Current, Time Deposit...   \n",
       "\n",
       "                                             content  \n",
       "0  <!DOCTYPE html><html lang=\"en-hk\" dir=\"ltr\" it...  "
      ]
     },
     "execution_count": 8,
     "metadata": {},
     "output_type": "execute_result"
    }
   ],
   "source": [
    "pickle_file = \"hsbc_site_20250220.limited.pickle\"\n",
    "df:pd.DataFrame=pd.read_pickle(pickle_file)\n",
    "df.head(1)"
   ]
  },
  {
   "cell_type": "code",
   "execution_count": null,
   "metadata": {},
   "outputs": [],
   "source": [
    "from urllib.parse import ParseResult, urlparse\n",
    "def extract_base_url(url):\n",
    "    parsed_url:ParseResult = urlparse(url)\n",
    "    base_url = parsed_url.scheme + \"://\" + parsed_url.netloc\n",
    "    return base_url\n",
    "def remove_first_url(url_string:str):\n",
    "    second_https_start_index = url_string.find(\"https://\", 1) \n",
    "    if second_https_start_index != -1:\n",
    "        return url_string[second_https_start_index:]\n",
    "    else:\n",
    "        return url_string"
   ]
  },
  {
   "cell_type": "code",
   "execution_count": null,
   "metadata": {},
   "outputs": [],
   "source": [
    "files_links=[]\n",
    "for index, row in df.iterrows():\n",
    "    files_links_list = row['files_links']\n",
    "    catalog = row['catalog']\n",
    "    if isinstance(files_links_list, list):\n",
    "        for link in files_links_list:\n",
    "            base_url=extract_base_url(row[\"url\"])\n",
    "            full_link = f\"{base_url}{link}\"\n",
    "            full_link = remove_first_url(full_link)\n",
    "            files_links.append(full_link)\n",
    "unique_links_set = set(files_links)\n",
    "unique_links_list = list(unique_links_set)"
   ]
  },
  {
   "cell_type": "code",
   "execution_count": null,
   "metadata": {},
   "outputs": [],
   "source": [
    "skipping_links = []"
   ]
  },
  {
   "cell_type": "code",
   "execution_count": null,
   "metadata": {},
   "outputs": [
    {
     "name": "stderr",
     "output_type": "stream",
     "text": [
      " 27%|██▋       | 871/3216 [00:01<00:04, 489.93it/s]"
     ]
    },
    {
     "name": "stdout",
     "output_type": "stream",
     "text": [
      "Error saving https://www.hsbc.com.hk/content/dam/hsbc/en/docs/wealth-insights/market-outlook/global-event/cautious-fed-pauses-awaiting-further-evidence-of-lower-inflation-before-continuing-slower-easing-cycle-tc.pdf to transformed_hsbc_site_20250220/datasets/default\\content/dam/hsbc/en/docs/wealth-insights/market-outlook/global-event/cautious-fed-pauses-awaiting-further-evidence-of-lower-inflation-before-continuing-slower-easing-cycle-tc.pdf: [Errno 2] No such file or directory: 'transformed_hsbc_site_20250220/datasets/default\\\\content/dam/hsbc/en/docs/wealth-insights/market-outlook/global-event/cautious-fed-pauses-awaiting-further-evidence-of-lower-inflation-before-continuing-slower-easing-cycle-tc.pdf'\n"
     ]
    },
    {
     "name": "stderr",
     "output_type": "stream",
     "text": [
      " 28%|██▊       | 913/3216 [01:16<14:29,  2.65it/s] "
     ]
    },
    {
     "name": "stdout",
     "output_type": "stream",
     "text": [
      "Error downloading https://www.hsbc.com.hkhttps://www.hsbc.com.hk/content/dam/hsbc/hk/vam/pdf/2024_11_PIL_W11_Online_TnC_PTL_1129_R1.pdf: HTTPSConnectionPool(host='www.hsbc.com.hkhttps', port=443): Max retries exceeded with url: /www.hsbc.com.hk/content/dam/hsbc/hk/vam/pdf/2024_11_PIL_W11_Online_TnC_PTL_1129_R1.pdf (Caused by NameResolutionError(\"<urllib3.connection.HTTPSConnection object at 0x000001F022AB4E30>: Failed to resolve 'www.hsbc.com.hkhttps' ([Errno 11001] getaddrinfo failed)\"))\n"
     ]
    },
    {
     "name": "stderr",
     "output_type": "stream",
     "text": [
      " 29%|██▊       | 923/3216 [01:43<38:44,  1.01s/it]"
     ]
    },
    {
     "name": "stdout",
     "output_type": "stream",
     "text": [
      "Error downloading https://www.redhotoffers.hsbc.com.hk/content/dam/hsbc/hk/sc/docs/credit-cards/visa-platinum-exclusive-offers-terms-and-conditions.pdf: 404 Client Error: Not Found for url: https://www.redhotoffers.hsbc.com.hk/content/dam/hsbc/hk/sc/docs/credit-cards/visa-platinum-exclusive-offers-terms-and-conditions.pdf\n"
     ]
    },
    {
     "name": "stderr",
     "output_type": "stream",
     "text": [
      " 29%|██▉       | 940/3216 [02:25<3:02:04,  4.80s/it]"
     ]
    },
    {
     "name": "stdout",
     "output_type": "stream",
     "text": [
      "Error downloading https://www.hsbc.com.hkhttps://www.judiciary.hk/doc/en/court_services_facilities/probate.pdf: HTTPSConnectionPool(host='www.hsbc.com.hkhttps', port=443): Max retries exceeded with url: /www.judiciary.hk/doc/en/court_services_facilities/probate.pdf (Caused by NameResolutionError(\"<urllib3.connection.HTTPSConnection object at 0x000001F022A8DB80>: Failed to resolve 'www.hsbc.com.hkhttps' ([Errno 11001] getaddrinfo failed)\"))\n"
     ]
    },
    {
     "name": "stderr",
     "output_type": "stream",
     "text": [
      " 30%|██▉       | 953/3216 [02:59<2:53:38,  4.60s/it]"
     ]
    },
    {
     "name": "stdout",
     "output_type": "stream",
     "text": [
      "Error downloading https://www.hsbc.com.hkhttps://www.hsbc.com.hk/content/dam/hsbc/hk/docs/mpf/in91_sample.pdf: HTTPSConnectionPool(host='www.hsbc.com.hkhttps', port=443): Max retries exceeded with url: /www.hsbc.com.hk/content/dam/hsbc/hk/docs/mpf/in91_sample.pdf (Caused by NameResolutionError(\"<urllib3.connection.HTTPSConnection object at 0x000001F022A8D9A0>: Failed to resolve 'www.hsbc.com.hkhttps' ([Errno 11001] getaddrinfo failed)\"))\n"
     ]
    },
    {
     "name": "stderr",
     "output_type": "stream",
     "text": [
      " 30%|███       | 970/3216 [03:31<1:04:36,  1.73s/it]"
     ]
    },
    {
     "name": "stdout",
     "output_type": "stream",
     "text": [
      "Error downloading https://www.hsbc.com.hk/content/dam/hsbc/hk/wealth/pdf/fx-insights/daily-fx-focus/dfx-en-20250220.pdf: 404 Client Error: Not Found for url: https://www.hsbc.com.hk/content/dam/hsbc/hk/wealth/pdf/fx-insights/daily-fx-focus/dfx-en-20250220.pdf\n"
     ]
    },
    {
     "name": "stderr",
     "output_type": "stream",
     "text": [
      " 30%|███       | 977/3216 [03:52<2:54:20,  4.67s/it]"
     ]
    },
    {
     "name": "stdout",
     "output_type": "stream",
     "text": [
      "Error downloading https://www.hsbc.com.hkhttps://www.hsbc.com.hk/content/dam/hsbc/hk/vam/pdf/IBB_GetInsuredOnlineChallenge_Jun2024_TC_SC.pdf: HTTPSConnectionPool(host='www.hsbc.com.hkhttps', port=443): Max retries exceeded with url: /www.hsbc.com.hk/content/dam/hsbc/hk/vam/pdf/IBB_GetInsuredOnlineChallenge_Jun2024_TC_SC.pdf (Caused by NameResolutionError(\"<urllib3.connection.HTTPSConnection object at 0x000001F022A86C30>: Failed to resolve 'www.hsbc.com.hkhttps' ([Errno 11001] getaddrinfo failed)\"))\n"
     ]
    },
    {
     "name": "stderr",
     "output_type": "stream",
     "text": [
      " 30%|███       | 978/3216 [04:04<4:07:59,  6.65s/it]"
     ]
    },
    {
     "name": "stdout",
     "output_type": "stream",
     "text": [
      "Error downloading https://www.hsbc.com.hkhttps://www.hsbc.com.hk/content/dam/hsbc/hk/vam/pdf/Loans_CCA15_RCF_TNC_2024_Wave_11.pdf: HTTPSConnectionPool(host='www.hsbc.com.hkhttps', port=443): Max retries exceeded with url: /www.hsbc.com.hk/content/dam/hsbc/hk/vam/pdf/Loans_CCA15_RCF_TNC_2024_Wave_11.pdf (Caused by NameResolutionError(\"<urllib3.connection.HTTPSConnection object at 0x000001F022A84E60>: Failed to resolve 'www.hsbc.com.hkhttps' ([Errno 11001] getaddrinfo failed)\"))\n"
     ]
    },
    {
     "name": "stderr",
     "output_type": "stream",
     "text": [
      " 30%|███       | 980/3216 [04:16<4:20:13,  6.98s/it]"
     ]
    },
    {
     "name": "stdout",
     "output_type": "stream",
     "text": [
      "Error downloading https://www.hsbc.com.hkhttps://www.hsbc.com.hk/content/dam/hsbc/hk/vam/pdf/Trade25_Apple_Store_Gift_Card_Offer_TnC_TC_final.pdf: HTTPSConnectionPool(host='www.hsbc.com.hkhttps', port=443): Max retries exceeded with url: /www.hsbc.com.hk/content/dam/hsbc/hk/vam/pdf/Trade25_Apple_Store_Gift_Card_Offer_TnC_TC_final.pdf (Caused by NameResolutionError(\"<urllib3.connection.HTTPSConnection object at 0x000001F022AB4B60>: Failed to resolve 'www.hsbc.com.hkhttps' ([Errno 11001] getaddrinfo failed)\"))\n"
     ]
    },
    {
     "name": "stderr",
     "output_type": "stream",
     "text": [
      " 31%|███▏      | 1012/3216 [05:23<2:47:04,  4.55s/it]"
     ]
    },
    {
     "name": "stdout",
     "output_type": "stream",
     "text": [
      "Error downloading https://www.hsbc.com.hkhttps://www.hsbc.com.hk/content/dam/hsbc/hk/docs/mpf/bonus_unit_offer.pdf: HTTPSConnectionPool(host='www.hsbc.com.hkhttps', port=443): Max retries exceeded with url: /www.hsbc.com.hk/content/dam/hsbc/hk/docs/mpf/bonus_unit_offer.pdf (Caused by NameResolutionError(\"<urllib3.connection.HTTPSConnection object at 0x000001F022A8F950>: Failed to resolve 'www.hsbc.com.hkhttps' ([Errno 11001] getaddrinfo failed)\"))\n"
     ]
    },
    {
     "name": "stderr",
     "output_type": "stream",
     "text": [
      " 33%|███▎      | 1050/3216 [06:33<54:10,  1.50s/it]  "
     ]
    },
    {
     "name": "stdout",
     "output_type": "stream",
     "text": [
      "Error downloading https://www.redhotoffers.hsbc.com.hk/content/dam/hsbc/hk/tc/docs/credit-cards/2023-Jan-15-credit-card-terms-and-conditions.pdf: 404 Client Error: Not Found for url: https://www.redhotoffers.hsbc.com.hk/content/dam/hsbc/hk/tc/docs/credit-cards/2023-Jan-15-credit-card-terms-and-conditions.pdf\n"
     ]
    },
    {
     "name": "stderr",
     "output_type": "stream",
     "text": [
      " 33%|███▎      | 1062/3216 [07:01<2:23:31,  4.00s/it]"
     ]
    },
    {
     "name": "stdout",
     "output_type": "stream",
     "text": [
      "Error downloading https://www.hsbc.com.hkhttps://www.about.hsbc.com.hk/-/media/hong-kong/zh-hk/news-and-media/210803-hsbc-warns-against-phishing-emails-and-fraudulent-websites-chi.pdf: HTTPSConnectionPool(host='www.hsbc.com.hkhttps', port=443): Max retries exceeded with url: /www.about.hsbc.com.hk/-/media/hong-kong/zh-hk/news-and-media/210803-hsbc-warns-against-phishing-emails-and-fraudulent-websites-chi.pdf (Caused by NameResolutionError(\"<urllib3.connection.HTTPSConnection object at 0x000001F022A8E720>: Failed to resolve 'www.hsbc.com.hkhttps' ([Errno 11001] getaddrinfo failed)\"))\n"
     ]
    },
    {
     "name": "stderr",
     "output_type": "stream",
     "text": [
      " 33%|███▎      | 1064/3216 [07:04<1:36:27,  2.69s/it]"
     ]
    },
    {
     "name": "stdout",
     "output_type": "stream",
     "text": [
      "Error downloading https://www.redhotoffers.hsbc.com.hk/content/dam/hsbc/hk/tc/docs/credit-cards/visa-platinum-exclusive-offers-terms-and-conditions.pdf: 404 Client Error: Not Found for url: https://www.redhotoffers.hsbc.com.hk/content/dam/hsbc/hk/tc/docs/credit-cards/visa-platinum-exclusive-offers-terms-and-conditions.pdf\n"
     ]
    },
    {
     "name": "stderr",
     "output_type": "stream",
     "text": [
      " 34%|███▍      | 1093/3216 [08:06<2:46:05,  4.69s/it]"
     ]
    },
    {
     "name": "stdout",
     "output_type": "stream",
     "text": [
      "Error downloading https://www.hsbc.com.hkhttps://www.hsbc.com.hk/content/dam/hsbc/hk/vam/pdf/HSBC_Travel_Guru_Terms_TC_NOA.pdf: HTTPSConnectionPool(host='www.hsbc.com.hkhttps', port=443): Max retries exceeded with url: /www.hsbc.com.hk/content/dam/hsbc/hk/vam/pdf/HSBC_Travel_Guru_Terms_TC_NOA.pdf (Caused by NameResolutionError(\"<urllib3.connection.HTTPSConnection object at 0x000001F022A85220>: Failed to resolve 'www.hsbc.com.hkhttps' ([Errno 11001] getaddrinfo failed)\"))\n"
     ]
    },
    {
     "name": "stderr",
     "output_type": "stream",
     "text": [
      " 34%|███▍      | 1094/3216 [08:17<3:55:45,  6.67s/it]"
     ]
    },
    {
     "name": "stdout",
     "output_type": "stream",
     "text": [
      "Error downloading https://www.hsbc.com.hkhttps://www.hsbc.com.hk/content/dam/hsbc/hk/vam/pdf/EBSLeaflet_GEN_TC_2025.pdf: HTTPSConnectionPool(host='www.hsbc.com.hkhttps', port=443): Max retries exceeded with url: /www.hsbc.com.hk/content/dam/hsbc/hk/vam/pdf/EBSLeaflet_GEN_TC_2025.pdf (Caused by NameResolutionError(\"<urllib3.connection.HTTPSConnection object at 0x000001F022A86C30>: Failed to resolve 'www.hsbc.com.hkhttps' ([Errno 11001] getaddrinfo failed)\"))\n"
     ]
    },
    {
     "name": "stderr",
     "output_type": "stream",
     "text": [
      " 35%|███▍      | 1117/3216 [09:08<2:41:51,  4.63s/it]"
     ]
    },
    {
     "name": "stdout",
     "output_type": "stream",
     "text": [
      "Error downloading https://www.redhotoffers.hsbc.com.hkhttps://www.hsbc.com.hk/content/dam/hsbc/hk/docs/credit-cards/cash-instalment-plan/ntc-promotional-tnc.pdf: HTTPSConnectionPool(host='www.redhotoffers.hsbc.com.hkhttps', port=443): Max retries exceeded with url: /www.hsbc.com.hk/content/dam/hsbc/hk/docs/credit-cards/cash-instalment-plan/ntc-promotional-tnc.pdf (Caused by NameResolutionError(\"<urllib3.connection.HTTPSConnection object at 0x000001F022A853A0>: Failed to resolve 'www.redhotoffers.hsbc.com.hkhttps' ([Errno 11001] getaddrinfo failed)\"))\n"
     ]
    },
    {
     "name": "stderr",
     "output_type": "stream",
     "text": [
      " 35%|███▌      | 1133/3216 [09:47<2:44:54,  4.75s/it]"
     ]
    },
    {
     "name": "stdout",
     "output_type": "stream",
     "text": [
      "Error downloading https://www.hsbc.com.hkhttps://www.hsbc.com.hk/content/dam/hsbc/hk/vam/pdf/Trade25_Apple_Store_Gift_Card_Offer_TnC_EN_final.pdf: HTTPSConnectionPool(host='www.hsbc.com.hkhttps', port=443): Max retries exceeded with url: /www.hsbc.com.hk/content/dam/hsbc/hk/vam/pdf/Trade25_Apple_Store_Gift_Card_Offer_TnC_EN_final.pdf (Caused by NameResolutionError(\"<urllib3.connection.HTTPSConnection object at 0x000001F022A84A40>: Failed to resolve 'www.hsbc.com.hkhttps' ([Errno 11001] getaddrinfo failed)\"))\n"
     ]
    },
    {
     "name": "stderr",
     "output_type": "stream",
     "text": [
      " 36%|███▌      | 1157/3216 [10:40<2:38:58,  4.63s/it]"
     ]
    },
    {
     "name": "stdout",
     "output_type": "stream",
     "text": [
      "Error downloading https://www.hsbc.com.hkhttps://www.about.hsbc.com.hk/-/media/hong-kong/en/news-and-media/230113-hsbc-warns-against-phishing-email-en.pdf: HTTPSConnectionPool(host='www.hsbc.com.hkhttps', port=443): Max retries exceeded with url: /www.about.hsbc.com.hk/-/media/hong-kong/en/news-and-media/230113-hsbc-warns-against-phishing-email-en.pdf (Caused by NameResolutionError(\"<urllib3.connection.HTTPSConnection object at 0x000001F022AB7290>: Failed to resolve 'www.hsbc.com.hkhttps' ([Errno 11001] getaddrinfo failed)\"))\n"
     ]
    },
    {
     "name": "stderr",
     "output_type": "stream",
     "text": [
      " 36%|███▋      | 1172/3216 [11:18<2:36:18,  4.59s/it]"
     ]
    },
    {
     "name": "stdout",
     "output_type": "stream",
     "text": [
      "Error downloading https://www.hsbc.com.hkhttps://www.hsbc.com.hk/content/dam/hsbc/hk/vam/pdf/IBB_GetInsuredOnlineChallenge_Jun2024_TC_TC.pdf: HTTPSConnectionPool(host='www.hsbc.com.hkhttps', port=443): Max retries exceeded with url: /www.hsbc.com.hk/content/dam/hsbc/hk/vam/pdf/IBB_GetInsuredOnlineChallenge_Jun2024_TC_TC.pdf (Caused by NameResolutionError(\"<urllib3.connection.HTTPSConnection object at 0x000001F022A8FD70>: Failed to resolve 'www.hsbc.com.hkhttps' ([Errno 11001] getaddrinfo failed)\"))\n"
     ]
    },
    {
     "name": "stderr",
     "output_type": "stream",
     "text": [
      " 37%|███▋      | 1174/3216 [11:29<2:52:41,  5.07s/it]"
     ]
    },
    {
     "name": "stdout",
     "output_type": "stream",
     "text": [
      "Error downloading https://www.hsbc.com.hkhttps://hsbc.com.hk/content/dam/hsbc/hk/vam/pdf/IBB_GetInsuredOnlineChallenge_Jan2025_TC_TC.pdf: HTTPSConnectionPool(host='www.hsbc.com.hkhttps', port=443): Max retries exceeded with url: /hsbc.com.hk/content/dam/hsbc/hk/vam/pdf/IBB_GetInsuredOnlineChallenge_Jan2025_TC_TC.pdf (Caused by NameResolutionError(\"<urllib3.connection.HTTPSConnection object at 0x000001F022A8FA10>: Failed to resolve 'www.hsbc.com.hkhttps' ([Errno 11001] getaddrinfo failed)\"))\n"
     ]
    },
    {
     "name": "stderr",
     "output_type": "stream",
     "text": [
      " 37%|███▋      | 1188/3216 [12:05<2:34:50,  4.58s/it]"
     ]
    },
    {
     "name": "stdout",
     "output_type": "stream",
     "text": [
      "Error downloading https://www.hsbc.com.hkhttps://www.hsbc.com.hk/mpf/oci.pdf: HTTPSConnectionPool(host='www.hsbc.com.hkhttps', port=443): Max retries exceeded with url: /www.hsbc.com.hk/mpf/oci.pdf (Caused by NameResolutionError(\"<urllib3.connection.HTTPSConnection object at 0x000001F022A8F1D0>: Failed to resolve 'www.hsbc.com.hkhttps' ([Errno 11001] getaddrinfo failed)\"))\n"
     ]
    },
    {
     "name": "stderr",
     "output_type": "stream",
     "text": [
      " 37%|███▋      | 1194/3216 [12:25<2:47:30,  4.97s/it]"
     ]
    },
    {
     "name": "stdout",
     "output_type": "stream",
     "text": [
      "Error downloading https://www.hsbc.com.hkhttps://www.hsbc.com.hk/content/dam/hsbc/hk/vam/pdf/IBB_GetInsuredOnlineChallenge_Jan2025_TC_EN.pdf: HTTPSConnectionPool(host='www.hsbc.com.hkhttps', port=443): Max retries exceeded with url: /www.hsbc.com.hk/content/dam/hsbc/hk/vam/pdf/IBB_GetInsuredOnlineChallenge_Jan2025_TC_EN.pdf (Caused by NameResolutionError(\"<urllib3.connection.HTTPSConnection object at 0x000001F022A84FB0>: Failed to resolve 'www.hsbc.com.hkhttps' ([Errno 11001] getaddrinfo failed)\"))\n"
     ]
    },
    {
     "name": "stderr",
     "output_type": "stream",
     "text": [
      " 38%|███▊      | 1218/3216 [13:13<2:08:47,  3.87s/it]"
     ]
    },
    {
     "name": "stdout",
     "output_type": "stream",
     "text": [
      "Error downloading https://www.hsbc.com.hkhttp://www.hsbc.com.hk/atm-related-limit-increase-zh.pdf: HTTPSConnectionPool(host='www.hsbc.com.hkhttp', port=443): Max retries exceeded with url: /www.hsbc.com.hk/atm-related-limit-increase-zh.pdf (Caused by NameResolutionError(\"<urllib3.connection.HTTPSConnection object at 0x000001F021575B80>: Failed to resolve 'www.hsbc.com.hkhttp' ([Errno 11001] getaddrinfo failed)\"))\n"
     ]
    },
    {
     "name": "stderr",
     "output_type": "stream",
     "text": [
      " 39%|███▊      | 1239/3216 [14:00<2:30:12,  4.56s/it]"
     ]
    },
    {
     "name": "stdout",
     "output_type": "stream",
     "text": [
      "Error downloading https://www.hsbc.com.hkhttps://www.hfi.hsbc.com.hk/data/hk/invest/unit/ut_ut-doc3_INSFUNDPFWPLP_tw.pdf: HTTPSConnectionPool(host='www.hsbc.com.hkhttps', port=443): Max retries exceeded with url: /www.hfi.hsbc.com.hk/data/hk/invest/unit/ut_ut-doc3_INSFUNDPFWPLP_tw.pdf (Caused by NameResolutionError(\"<urllib3.connection.HTTPSConnection object at 0x000001F021574620>: Failed to resolve 'www.hsbc.com.hkhttps' ([Errno 11001] getaddrinfo failed)\"))\n"
     ]
    },
    {
     "name": "stderr",
     "output_type": "stream",
     "text": [
      " 39%|███▉      | 1249/3216 [14:27<2:33:37,  4.69s/it]"
     ]
    },
    {
     "name": "stdout",
     "output_type": "stream",
     "text": [
      "Error downloading https://www.hsbc.com.hkhttps://cdn.hsbc.com.hk/content/dam/hsbc/hk/sc/docs/investments/stocks/top-trader-club/us-stocks-product-fact-sheet.pdf: HTTPSConnectionPool(host='www.hsbc.com.hkhttps', port=443): Max retries exceeded with url: /cdn.hsbc.com.hk/content/dam/hsbc/hk/sc/docs/investments/stocks/top-trader-club/us-stocks-product-fact-sheet.pdf (Caused by NameResolutionError(\"<urllib3.connection.HTTPSConnection object at 0x000001F022A8EB10>: Failed to resolve 'www.hsbc.com.hkhttps' ([Errno 11001] getaddrinfo failed)\"))\n"
     ]
    },
    {
     "name": "stderr",
     "output_type": "stream",
     "text": [
      " 39%|███▉      | 1253/3216 [14:33<1:10:31,  2.16s/it]"
     ]
    },
    {
     "name": "stdout",
     "output_type": "stream",
     "text": [
      "Error downloading https://www.hsbc.com.hk/content/dam/hsbc/hk/docs/mpf/4q2017.pdf: 404 Client Error: Not Found for url: https://www.hsbc.com.hk/content/dam/hsbc/hk/docs/mpf/4q2017.pdf\n"
     ]
    },
    {
     "name": "stderr",
     "output_type": "stream",
     "text": [
      " 39%|███▉      | 1258/3216 [14:40<50:08,  1.54s/it]  "
     ]
    },
    {
     "name": "stdout",
     "output_type": "stream",
     "text": [
      "Error saving https://www.hsbc.com.hk/content/dam/hsbc/en/docs/wealth-insights/market-outlook/global-event/cautious-fed-pauses-awaiting-further-evidence-of-lower-inflation-before-continuing-slower-easing-cycle-sc.pdf to transformed_hsbc_site_20250220/datasets/default\\content/dam/hsbc/en/docs/wealth-insights/market-outlook/global-event/cautious-fed-pauses-awaiting-further-evidence-of-lower-inflation-before-continuing-slower-easing-cycle-sc.pdf: [Errno 2] No such file or directory: 'transformed_hsbc_site_20250220/datasets/default\\\\content/dam/hsbc/en/docs/wealth-insights/market-outlook/global-event/cautious-fed-pauses-awaiting-further-evidence-of-lower-inflation-before-continuing-slower-easing-cycle-sc.pdf'\n"
     ]
    },
    {
     "name": "stderr",
     "output_type": "stream",
     "text": [
      " 39%|███▉      | 1259/3216 [14:52<2:25:16,  4.45s/it]"
     ]
    },
    {
     "name": "stdout",
     "output_type": "stream",
     "text": [
      "Error downloading https://www.hsbc.com.hkhttps://www.hsbc.com.hk/content/dam/hsbc/hk/vam/pdf/GPB_Status_TnC_EN.pdf: HTTPSConnectionPool(host='www.hsbc.com.hkhttps', port=443): Max retries exceeded with url: /www.hsbc.com.hk/content/dam/hsbc/hk/vam/pdf/GPB_Status_TnC_EN.pdf (Caused by NameResolutionError(\"<urllib3.connection.HTTPSConnection object at 0x000001F022A8D970>: Failed to resolve 'www.hsbc.com.hkhttps' ([Errno 11001] getaddrinfo failed)\"))\n"
     ]
    },
    {
     "name": "stderr",
     "output_type": "stream",
     "text": [
      " 39%|███▉      | 1269/3216 [15:20<2:30:29,  4.64s/it]"
     ]
    },
    {
     "name": "stdout",
     "output_type": "stream",
     "text": [
      "Error downloading https://www.hsbc.com.hkhttps://www.hsbc.com.hk/content/dam/hsbc/hk/docs/credit-cards/everymile/everymile-everyday-spend.pdf: HTTPSConnectionPool(host='www.hsbc.com.hkhttps', port=443): Max retries exceeded with url: /www.hsbc.com.hk/content/dam/hsbc/hk/docs/credit-cards/everymile/everymile-everyday-spend.pdf (Caused by NameResolutionError(\"<urllib3.connection.HTTPSConnection object at 0x000001F022AC0AA0>: Failed to resolve 'www.hsbc.com.hkhttps' ([Errno 11001] getaddrinfo failed)\"))\n"
     ]
    },
    {
     "name": "stderr",
     "output_type": "stream",
     "text": [
      " 40%|███▉      | 1275/3216 [15:39<2:37:41,  4.87s/it]"
     ]
    },
    {
     "name": "stdout",
     "output_type": "stream",
     "text": [
      "Error downloading https://www.hsbc.com.hkhttps://www.hsbc.com.hk/content/dam/hsbc/hk/vam/pdf/EBSLeaflet_EXE_SC_2025.pdf: HTTPSConnectionPool(host='www.hsbc.com.hkhttps', port=443): Max retries exceeded with url: /www.hsbc.com.hk/content/dam/hsbc/hk/vam/pdf/EBSLeaflet_EXE_SC_2025.pdf (Caused by NameResolutionError(\"<urllib3.connection.HTTPSConnection object at 0x000001F022A87050>: Failed to resolve 'www.hsbc.com.hkhttps' ([Errno 11001] getaddrinfo failed)\"))\n"
     ]
    },
    {
     "name": "stderr",
     "output_type": "stream",
     "text": [
      " 40%|███▉      | 1278/3216 [15:54<3:06:08,  5.76s/it]"
     ]
    },
    {
     "name": "stdout",
     "output_type": "stream",
     "text": [
      "Error downloading https://www.hsbc.com.hkhttps://www.hkma.gov.hk/media/chi/doc/key-functions/financial-infrastructure/infrastructure/retail-payment-initiatives/e-Cheque_ebrochure_chi.pdf: HTTPSConnectionPool(host='www.hsbc.com.hkhttps', port=443): Max retries exceeded with url: /www.hkma.gov.hk/media/chi/doc/key-functions/financial-infrastructure/infrastructure/retail-payment-initiatives/e-Cheque_ebrochure_chi.pdf (Caused by NameResolutionError(\"<urllib3.connection.HTTPSConnection object at 0x000001F022A8E9F0>: Failed to resolve 'www.hsbc.com.hkhttps' ([Errno 11001] getaddrinfo failed)\"))\n"
     ]
    },
    {
     "name": "stderr",
     "output_type": "stream",
     "text": [
      " 40%|███▉      | 1282/3216 [16:10<2:56:42,  5.48s/it]"
     ]
    },
    {
     "name": "stdout",
     "output_type": "stream",
     "text": [
      "Error downloading https://www.redhotoffers.hsbc.com.hkhttps://www.hsbc.com.hk/content/dam/hsbc/hk/docs/accounts/third-party-authorise.pdf: HTTPSConnectionPool(host='www.redhotoffers.hsbc.com.hkhttps', port=443): Max retries exceeded with url: /www.hsbc.com.hk/content/dam/hsbc/hk/docs/accounts/third-party-authorise.pdf (Caused by NameResolutionError(\"<urllib3.connection.HTTPSConnection object at 0x000001F022A8F950>: Failed to resolve 'www.redhotoffers.hsbc.com.hkhttps' ([Errno 11001] getaddrinfo failed)\"))\n"
     ]
    },
    {
     "name": "stderr",
     "output_type": "stream",
     "text": [
      " 40%|███▉      | 1286/3216 [16:27<3:00:59,  5.63s/it]"
     ]
    },
    {
     "name": "stdout",
     "output_type": "stream",
     "text": [
      "Error downloading https://www.hsbc.com.hkhttps://www.hsbc.com.hk/mpf/ffs.pdf: HTTPSConnectionPool(host='www.hsbc.com.hkhttps', port=443): Max retries exceeded with url: /www.hsbc.com.hk/mpf/ffs.pdf (Caused by NameResolutionError(\"<urllib3.connection.HTTPSConnection object at 0x000001F022AB72F0>: Failed to resolve 'www.hsbc.com.hkhttps' ([Errno 11001] getaddrinfo failed)\"))\n"
     ]
    },
    {
     "name": "stderr",
     "output_type": "stream",
     "text": [
      " 41%|████      | 1304/3216 [17:11<2:25:18,  4.56s/it]"
     ]
    },
    {
     "name": "stdout",
     "output_type": "stream",
     "text": [
      "Error downloading https://www.redhotoffers.hsbc.com.hkhttps://www.hsbc.com.hk/content/dam/hsbc/hk/vam/pdf/2025_Visa_Signature_Card_Special_Reward_Promotion_TNC_EN.pdf: HTTPSConnectionPool(host='www.redhotoffers.hsbc.com.hkhttps', port=443): Max retries exceeded with url: /www.hsbc.com.hk/content/dam/hsbc/hk/vam/pdf/2025_Visa_Signature_Card_Special_Reward_Promotion_TNC_EN.pdf (Caused by NameResolutionError(\"<urllib3.connection.HTTPSConnection object at 0x000001F022AB5FD0>: Failed to resolve 'www.redhotoffers.hsbc.com.hkhttps' ([Errno 11001] getaddrinfo failed)\"))\n"
     ]
    },
    {
     "name": "stderr",
     "output_type": "stream",
     "text": [
      " 41%|████      | 1305/3216 [17:23<3:29:27,  6.58s/it]"
     ]
    },
    {
     "name": "stdout",
     "output_type": "stream",
     "text": [
      "Error downloading https://www.hsbc.com.hkhttps://www.hsbc.com.hk/content/dam/hsbc/hk/vam/pdf/EBSTNC_GEN_EN_2025.pdf: HTTPSConnectionPool(host='www.hsbc.com.hkhttps', port=443): Max retries exceeded with url: /www.hsbc.com.hk/content/dam/hsbc/hk/vam/pdf/EBSTNC_GEN_EN_2025.pdf (Caused by NameResolutionError(\"<urllib3.connection.HTTPSConnection object at 0x000001F022AC05F0>: Failed to resolve 'www.hsbc.com.hkhttps' ([Errno 11001] getaddrinfo failed)\"))\n"
     ]
    },
    {
     "name": "stderr",
     "output_type": "stream",
     "text": [
      " 41%|████      | 1326/3216 [18:09<2:24:12,  4.58s/it]"
     ]
    },
    {
     "name": "stdout",
     "output_type": "stream",
     "text": [
      "Error downloading https://www.hsbc.com.hkhttps://www.hsbc.com.hk/content/dam/hsbc/hk/vam/pdf/Trade25_Apple_Store_Gift_Card_Offer_TnC_SC_final.pdf: HTTPSConnectionPool(host='www.hsbc.com.hkhttps', port=443): Max retries exceeded with url: /www.hsbc.com.hk/content/dam/hsbc/hk/vam/pdf/Trade25_Apple_Store_Gift_Card_Offer_TnC_SC_final.pdf (Caused by NameResolutionError(\"<urllib3.connection.HTTPSConnection object at 0x000001F022A86690>: Failed to resolve 'www.hsbc.com.hkhttps' ([Errno 11001] getaddrinfo failed)\"))\n"
     ]
    },
    {
     "name": "stderr",
     "output_type": "stream",
     "text": [
      " 42%|████▏     | 1339/3216 [18:41<2:21:29,  4.52s/it]"
     ]
    },
    {
     "name": "stdout",
     "output_type": "stream",
     "text": [
      "Error downloading https://www.hsbc.com.hkhttps://retailbank.hsbc.com.hk/media/2461/global-directory-of-hospitals_sc.pdf: HTTPSConnectionPool(host='www.hsbc.com.hkhttps', port=443): Max retries exceeded with url: /retailbank.hsbc.com.hk/media/2461/global-directory-of-hospitals_sc.pdf (Caused by NameResolutionError(\"<urllib3.connection.HTTPSConnection object at 0x000001F022A84470>: Failed to resolve 'www.hsbc.com.hkhttps' ([Errno 11001] getaddrinfo failed)\"))\n"
     ]
    },
    {
     "name": "stderr",
     "output_type": "stream",
     "text": [
      " 42%|████▏     | 1340/3216 [18:52<3:24:39,  6.55s/it]"
     ]
    },
    {
     "name": "stdout",
     "output_type": "stream",
     "text": [
      "Error downloading https://www.hsbc.com.hkhttps://www.hsbc.com.hk/content/dam/hsbc/hk/vam/pdf/EBSTNC_EXE_TC_2025.pdf: HTTPSConnectionPool(host='www.hsbc.com.hkhttps', port=443): Max retries exceeded with url: /www.hsbc.com.hk/content/dam/hsbc/hk/vam/pdf/EBSTNC_EXE_TC_2025.pdf (Caused by NameResolutionError(\"<urllib3.connection.HTTPSConnection object at 0x000001F022A8EA20>: Failed to resolve 'www.hsbc.com.hkhttps' ([Errno 11001] getaddrinfo failed)\"))\n"
     ]
    },
    {
     "name": "stderr",
     "output_type": "stream",
     "text": [
      " 42%|████▏     | 1362/3216 [19:41<2:29:48,  4.85s/it]"
     ]
    },
    {
     "name": "stdout",
     "output_type": "stream",
     "text": [
      "Error downloading https://www.hsbc.com.hkhttps://www.hsbc.com.hk/content/dam/hsbc/hk/vam/pdf/EN_TC_Wealth_of_Your_Choice_Bonus_Badge.pdf: HTTPSConnectionPool(host='www.hsbc.com.hkhttps', port=443): Max retries exceeded with url: /www.hsbc.com.hk/content/dam/hsbc/hk/vam/pdf/EN_TC_Wealth_of_Your_Choice_Bonus_Badge.pdf (Caused by NameResolutionError(\"<urllib3.connection.HTTPSConnection object at 0x000001F022A8E780>: Failed to resolve 'www.hsbc.com.hkhttps' ([Errno 11001] getaddrinfo failed)\"))\n"
     ]
    },
    {
     "name": "stderr",
     "output_type": "stream",
     "text": [
      " 42%|████▏     | 1363/3216 [19:52<3:29:13,  6.77s/it]"
     ]
    },
    {
     "name": "stdout",
     "output_type": "stream",
     "text": [
      "Error downloading https://www.hsbc.com.hkhttps://www.hsbc.com.hk/content/dam/hsbc/hk/vam/pdf/2024_10_PIL_W10_Online_TnC_CPA_1030_R1.pdf: HTTPSConnectionPool(host='www.hsbc.com.hkhttps', port=443): Max retries exceeded with url: /www.hsbc.com.hk/content/dam/hsbc/hk/vam/pdf/2024_10_PIL_W10_Online_TnC_CPA_1030_R1.pdf (Caused by NameResolutionError(\"<urllib3.connection.HTTPSConnection object at 0x000001F022A8FFE0>: Failed to resolve 'www.hsbc.com.hkhttps' ([Errno 11001] getaddrinfo failed)\"))\n"
     ]
    },
    {
     "name": "stderr",
     "output_type": "stream",
     "text": [
      " 44%|████▍     | 1409/3216 [21:21<2:13:52,  4.45s/it]"
     ]
    },
    {
     "name": "stdout",
     "output_type": "stream",
     "text": [
      "Error downloading https://www.hsbc.com.hkhttp://www.mpfa.org.hk/tch/information_centre/publications/booklets_publications/mpf_system/files/DIS_eFlyer_ER_Chi.pdf: HTTPSConnectionPool(host='www.hsbc.com.hkhttp', port=443): Max retries exceeded with url: /www.mpfa.org.hk/tch/information_centre/publications/booklets_publications/mpf_system/files/DIS_eFlyer_ER_Chi.pdf (Caused by NameResolutionError(\"<urllib3.connection.HTTPSConnection object at 0x000001F022AC1940>: Failed to resolve 'www.hsbc.com.hkhttp' ([Errno 11001] getaddrinfo failed)\"))\n"
     ]
    },
    {
     "name": "stderr",
     "output_type": "stream",
     "text": [
      " 44%|████▍     | 1410/3216 [21:22<1:42:14,  3.40s/it]"
     ]
    },
    {
     "name": "stdout",
     "output_type": "stream",
     "text": [
      "Error downloading https://www.hsbc.com.hk/content/dam/hsbc/en/docs/wealth-insights/fx-insights/fx-viewpoint/fx-viewpoint-6-december-2024-tc.pdf: 404 Client Error: Not Found for url: https://www.hsbc.com.hk/content/dam/hsbc/en/docs/wealth-insights/fx-insights/fx-viewpoint/fx-viewpoint-6-december-2024-tc.pdf\n"
     ]
    },
    {
     "name": "stderr",
     "output_type": "stream",
     "text": [
      " 44%|████▍     | 1418/3216 [21:46<2:24:11,  4.81s/it]"
     ]
    },
    {
     "name": "stdout",
     "output_type": "stream",
     "text": [
      "Error downloading https://www.hsbc.com.hkhttps://www.hsbc.com.hk/content/dam/hsbc/hk/vam/pdf/EBSLeaflet_EXE_EN_2025.pdf: HTTPSConnectionPool(host='www.hsbc.com.hkhttps', port=443): Max retries exceeded with url: /www.hsbc.com.hk/content/dam/hsbc/hk/vam/pdf/EBSLeaflet_EXE_EN_2025.pdf (Caused by NameResolutionError(\"<urllib3.connection.HTTPSConnection object at 0x000001F022A860F0>: Failed to resolve 'www.hsbc.com.hkhttps' ([Errno 11001] getaddrinfo failed)\"))\n"
     ]
    },
    {
     "name": "stderr",
     "output_type": "stream",
     "text": [
      " 44%|████▍     | 1422/3216 [22:04<2:43:30,  5.47s/it]"
     ]
    },
    {
     "name": "stdout",
     "output_type": "stream",
     "text": [
      "Error downloading https://www.hsbc.com.hkhttps://retailbank.hsbc.com.hk/media/2462/global-directory-of-hospitals_tc.pdf: HTTPSConnectionPool(host='www.hsbc.com.hkhttps', port=443): Max retries exceeded with url: /retailbank.hsbc.com.hk/media/2462/global-directory-of-hospitals_tc.pdf (Caused by NameResolutionError(\"<urllib3.connection.HTTPSConnection object at 0x000001F022A87FB0>: Failed to resolve 'www.hsbc.com.hkhttps' ([Errno 11001] getaddrinfo failed)\"))\n"
     ]
    },
    {
     "name": "stderr",
     "output_type": "stream",
     "text": [
      " 45%|████▌     | 1460/3216 [23:21<2:15:58,  4.65s/it]"
     ]
    },
    {
     "name": "stdout",
     "output_type": "stream",
     "text": [
      "Error downloading https://www.hsbc.com.hkhttps://www.hsbc.com.hk/content/dam/hsbc/hk/vam/pdf/EBSTNC_GEN_TC_2025.pdf: HTTPSConnectionPool(host='www.hsbc.com.hkhttps', port=443): Max retries exceeded with url: /www.hsbc.com.hk/content/dam/hsbc/hk/vam/pdf/EBSTNC_GEN_TC_2025.pdf (Caused by NameResolutionError(\"<urllib3.connection.HTTPSConnection object at 0x000001F022A8E720>: Failed to resolve 'www.hsbc.com.hkhttps' ([Errno 11001] getaddrinfo failed)\"))\n"
     ]
    },
    {
     "name": "stderr",
     "output_type": "stream",
     "text": [
      " 45%|████▌     | 1463/3216 [23:37<2:48:37,  5.77s/it]"
     ]
    },
    {
     "name": "stdout",
     "output_type": "stream",
     "text": [
      "Error downloading https://www.hsbc.com.hkhttps://www.hsbc.com.hk/content/dam/hsbc/hk/vam/pdf/SC_TC_Wealth_of_Your_Choice_Bonus_Badge.pdf: HTTPSConnectionPool(host='www.hsbc.com.hkhttps', port=443): Max retries exceeded with url: /www.hsbc.com.hk/content/dam/hsbc/hk/vam/pdf/SC_TC_Wealth_of_Your_Choice_Bonus_Badge.pdf (Caused by NameResolutionError(\"<urllib3.connection.HTTPSConnection object at 0x000001F022A8F020>: Failed to resolve 'www.hsbc.com.hkhttps' ([Errno 11001] getaddrinfo failed)\"))\n"
     ]
    },
    {
     "name": "stderr",
     "output_type": "stream",
     "text": [
      " 46%|████▌     | 1464/3216 [23:48<3:36:47,  7.42s/it]"
     ]
    },
    {
     "name": "stdout",
     "output_type": "stream",
     "text": [
      "Error downloading https://www.hsbc.com.hkhttps://www.hsbc.com.hk/content/dam/hsbc/hk/vam/pdf/hsbc_credit_card_notice_of_changes_sept2024.pdf: HTTPSConnectionPool(host='www.hsbc.com.hkhttps', port=443): Max retries exceeded with url: /www.hsbc.com.hk/content/dam/hsbc/hk/vam/pdf/hsbc_credit_card_notice_of_changes_sept2024.pdf (Caused by NameResolutionError(\"<urllib3.connection.HTTPSConnection object at 0x000001F022AC1C10>: Failed to resolve 'www.hsbc.com.hkhttps' ([Errno 11001] getaddrinfo failed)\"))\n"
     ]
    },
    {
     "name": "stderr",
     "output_type": "stream",
     "text": [
      " 46%|████▌     | 1470/3216 [24:10<2:37:53,  5.43s/it]"
     ]
    },
    {
     "name": "stdout",
     "output_type": "stream",
     "text": [
      "Error downloading https://www.redhotoffers.hsbc.com.hkhttps://www.hsbc.com.hk/content/dam/hsbc/hk/tc/docs/credit-cards/cash-instalment-plan/ntc-promotional-tnc.pdf: HTTPSConnectionPool(host='www.redhotoffers.hsbc.com.hkhttps', port=443): Max retries exceeded with url: /www.hsbc.com.hk/content/dam/hsbc/hk/tc/docs/credit-cards/cash-instalment-plan/ntc-promotional-tnc.pdf (Caused by NameResolutionError(\"<urllib3.connection.HTTPSConnection object at 0x000001F022AC2900>: Failed to resolve 'www.redhotoffers.hsbc.com.hkhttps' ([Errno 11001] getaddrinfo failed)\"))\n"
     ]
    },
    {
     "name": "stderr",
     "output_type": "stream",
     "text": [
      " 46%|████▋     | 1495/3216 [25:03<2:14:55,  4.70s/it]"
     ]
    },
    {
     "name": "stdout",
     "output_type": "stream",
     "text": [
      "Error downloading https://retailbank.hsbc.com.hkhttps://www.hsbc.com.hk/content/dam/hsbc/hk/vam/pdf/IBB_GetInsuredOnlineChallenge_Jan2025_TC_TC.pdf: HTTPSConnectionPool(host='retailbank.hsbc.com.hkhttps', port=443): Max retries exceeded with url: /www.hsbc.com.hk/content/dam/hsbc/hk/vam/pdf/IBB_GetInsuredOnlineChallenge_Jan2025_TC_TC.pdf (Caused by NameResolutionError(\"<urllib3.connection.HTTPSConnection object at 0x000001F022A86A20>: Failed to resolve 'retailbank.hsbc.com.hkhttps' ([Errno 11001] getaddrinfo failed)\"))\n"
     ]
    },
    {
     "name": "stderr",
     "output_type": "stream",
     "text": [
      " 47%|████▋     | 1516/3216 [25:50<2:16:46,  4.83s/it]"
     ]
    },
    {
     "name": "stdout",
     "output_type": "stream",
     "text": [
      "Error downloading https://www.hsbc.com.hkhttps://www.about.hsbc.com.hk/-/media/hong-kong/en/news-and-media/200715-community-banking-services-for-homeless-en.pdf: HTTPSConnectionPool(host='www.hsbc.com.hkhttps', port=443): Max retries exceeded with url: /www.about.hsbc.com.hk/-/media/hong-kong/en/news-and-media/200715-community-banking-services-for-homeless-en.pdf (Caused by NameResolutionError(\"<urllib3.connection.HTTPSConnection object at 0x000001F022A87020>: Failed to resolve 'www.hsbc.com.hkhttps' ([Errno 11001] getaddrinfo failed)\"))\n"
     ]
    },
    {
     "name": "stderr",
     "output_type": "stream",
     "text": [
      " 49%|████▊     | 1560/3216 [27:11<45:01,  1.63s/it]  "
     ]
    },
    {
     "name": "stdout",
     "output_type": "stream",
     "text": [
      "Error downloading https://www.hsbc.com.hk/content/dam/hsbc/hk/docs/mpf/orso_1q2018.pdf: 404 Client Error: Not Found for url: https://www.hsbc.com.hk/content/dam/hsbc/hk/docs/mpf/orso_1q2018.pdf\n"
     ]
    },
    {
     "name": "stderr",
     "output_type": "stream",
     "text": [
      " 49%|████▉     | 1571/3216 [27:40<2:06:56,  4.63s/it]"
     ]
    },
    {
     "name": "stdout",
     "output_type": "stream",
     "text": [
      "Error downloading https://www.hsbc.com.hkhttps://www.hsbc.com.hk/content/dam/hsbc/hk/vam/pdf/well_plus_data_privacy_notice_tc.pdf: HTTPSConnectionPool(host='www.hsbc.com.hkhttps', port=443): Max retries exceeded with url: /www.hsbc.com.hk/content/dam/hsbc/hk/vam/pdf/well_plus_data_privacy_notice_tc.pdf (Caused by NameResolutionError(\"<urllib3.connection.HTTPSConnection object at 0x000001F022AB4620>: Failed to resolve 'www.hsbc.com.hkhttps' ([Errno 11001] getaddrinfo failed)\"))\n"
     ]
    },
    {
     "name": "stderr",
     "output_type": "stream",
     "text": [
      " 49%|████▉     | 1583/3216 [28:02<42:02,  1.54s/it]  "
     ]
    },
    {
     "name": "stdout",
     "output_type": "stream",
     "text": [
      "Error downloading https://www.hsbc.com.hk/content/dam/hsbc/hk/docs/mpf/orso_3q2017.pdf: 404 Client Error: Not Found for url: https://www.hsbc.com.hk/content/dam/hsbc/hk/docs/mpf/orso_3q2017.pdf\n"
     ]
    },
    {
     "name": "stderr",
     "output_type": "stream",
     "text": [
      " 50%|████▉     | 1604/3216 [28:48<2:01:37,  4.53s/it]"
     ]
    },
    {
     "name": "stdout",
     "output_type": "stream",
     "text": [
      "Error downloading https://www.hsbc.com.hkhttps://www.foodwisehk.gov.hk/pdf/GPGuide_Residential_en.pdf: HTTPSConnectionPool(host='www.hsbc.com.hkhttps', port=443): Max retries exceeded with url: /www.foodwisehk.gov.hk/pdf/GPGuide_Residential_en.pdf (Caused by NameResolutionError(\"<urllib3.connection.HTTPSConnection object at 0x000001F022AB41D0>: Failed to resolve 'www.hsbc.com.hkhttps' ([Errno 11001] getaddrinfo failed)\"))\n"
     ]
    },
    {
     "name": "stderr",
     "output_type": "stream",
     "text": [
      " 50%|█████     | 1622/3216 [29:28<2:01:18,  4.57s/it]"
     ]
    },
    {
     "name": "stdout",
     "output_type": "stream",
     "text": [
      "Error downloading https://www.hsbc.com.hkhttp://www.hfi.hsbc.com.hk/data/hk/invest/unit/ut_ut-doc3_INSFUNDPFLVPP_tw.pdf: HTTPSConnectionPool(host='www.hsbc.com.hkhttp', port=443): Max retries exceeded with url: /www.hfi.hsbc.com.hk/data/hk/invest/unit/ut_ut-doc3_INSFUNDPFLVPP_tw.pdf (Caused by NameResolutionError(\"<urllib3.connection.HTTPSConnection object at 0x000001F022A87FE0>: Failed to resolve 'www.hsbc.com.hkhttp' ([Errno 11001] getaddrinfo failed)\"))\n"
     ]
    },
    {
     "name": "stderr",
     "output_type": "stream",
     "text": [
      " 51%|█████     | 1647/3216 [30:11<39:51,  1.52s/it]  "
     ]
    },
    {
     "name": "stdout",
     "output_type": "stream",
     "text": [
      "Error downloading https://www.redhotoffers.hsbc.com.hk/content/dam/hsbc/hk/docs/credit-cards/visa-platinum/tc/welcome-pack.pdf: 404 Client Error: Not Found for url: https://www.redhotoffers.hsbc.com.hk/content/dam/hsbc/hk/docs/credit-cards/visa-platinum/tc/welcome-pack.pdf\n"
     ]
    },
    {
     "name": "stderr",
     "output_type": "stream",
     "text": [
      " 53%|█████▎    | 1694/3216 [31:47<2:03:01,  4.85s/it]"
     ]
    },
    {
     "name": "stdout",
     "output_type": "stream",
     "text": [
      "Error downloading https://www.redhotoffers.hsbc.com.hkhttps://www.hsbc.com.hk/content/dam/hsbc/hk/tc/docs/credit-cards/student/terms-and-conditions.pdf: HTTPSConnectionPool(host='www.redhotoffers.hsbc.com.hkhttps', port=443): Max retries exceeded with url: /www.hsbc.com.hk/content/dam/hsbc/hk/tc/docs/credit-cards/student/terms-and-conditions.pdf (Caused by NameResolutionError(\"<urllib3.connection.HTTPSConnection object at 0x000001F022AB6AB0>: Failed to resolve 'www.redhotoffers.hsbc.com.hkhttps' ([Errno 11001] getaddrinfo failed)\"))\n"
     ]
    },
    {
     "name": "stderr",
     "output_type": "stream",
     "text": [
      " 54%|█████▍    | 1752/3216 [33:47<1:59:08,  4.88s/it]"
     ]
    },
    {
     "name": "stdout",
     "output_type": "stream",
     "text": [
      "Error downloading https://www.hsbc.com.hkhttps://cdn.hsbc.com.hk/content/dam/hsbc/hk/docs/investments/stocks/top-trader-club/us-stocks-product-fact-sheet.pdf: HTTPSConnectionPool(host='www.hsbc.com.hkhttps', port=443): Max retries exceeded with url: /cdn.hsbc.com.hk/content/dam/hsbc/hk/docs/investments/stocks/top-trader-club/us-stocks-product-fact-sheet.pdf (Caused by NameResolutionError(\"<urllib3.connection.HTTPSConnection object at 0x000001F022AB6780>: Failed to resolve 'www.hsbc.com.hkhttps' ([Errno 11001] getaddrinfo failed)\"))\n"
     ]
    },
    {
     "name": "stderr",
     "output_type": "stream",
     "text": [
      " 56%|█████▌    | 1793/3216 [35:15<1:49:36,  4.62s/it]"
     ]
    },
    {
     "name": "stdout",
     "output_type": "stream",
     "text": [
      "Error downloading https://www.hsbc.com.hkhttps://www.about.hsbc.com.hk/-/media/hong-kong/en/news-and-media/180823-hsbc-introduces-new-barrier-free-banking-services-en.pdf: HTTPSConnectionPool(host='www.hsbc.com.hkhttps', port=443): Max retries exceeded with url: /www.about.hsbc.com.hk/-/media/hong-kong/en/news-and-media/180823-hsbc-introduces-new-barrier-free-banking-services-en.pdf (Caused by NameResolutionError(\"<urllib3.connection.HTTPSConnection object at 0x000001F02270B080>: Failed to resolve 'www.hsbc.com.hkhttps' ([Errno 11001] getaddrinfo failed)\"))\n"
     ]
    },
    {
     "name": "stderr",
     "output_type": "stream",
     "text": [
      " 56%|█████▌    | 1795/3216 [35:27<2:20:46,  5.94s/it]"
     ]
    },
    {
     "name": "stdout",
     "output_type": "stream",
     "text": [
      "Error downloading https://www.hsbc.com.hkhttps://www.hsbc.com.hk/content/dam/hsbc/hk/vam/pdf/2025_Visa_Signature_Card_Special_Reward_Promotion_TNC_TC.pdf: HTTPSConnectionPool(host='www.hsbc.com.hkhttps', port=443): Max retries exceeded with url: /www.hsbc.com.hk/content/dam/hsbc/hk/vam/pdf/2025_Visa_Signature_Card_Special_Reward_Promotion_TNC_TC.pdf (Caused by NameResolutionError(\"<urllib3.connection.HTTPSConnection object at 0x000001F022A8F080>: Failed to resolve 'www.hsbc.com.hkhttps' ([Errno 11001] getaddrinfo failed)\"))\n"
     ]
    },
    {
     "name": "stderr",
     "output_type": "stream",
     "text": [
      " 56%|█████▌    | 1808/3216 [36:02<1:54:35,  4.88s/it]"
     ]
    },
    {
     "name": "stdout",
     "output_type": "stream",
     "text": [
      "Error downloading https://www.hsbc.com.hkhttps://www.hsbc.com.hk/content/dam/hsbc/hk/vam/pdf/2025_Visa_Signature_Card_Special_Reward_Promotion_TNC_SC.pdf: HTTPSConnectionPool(host='www.hsbc.com.hkhttps', port=443): Max retries exceeded with url: /www.hsbc.com.hk/content/dam/hsbc/hk/vam/pdf/2025_Visa_Signature_Card_Special_Reward_Promotion_TNC_SC.pdf (Caused by NameResolutionError(\"<urllib3.connection.HTTPSConnection object at 0x000001F022AC07A0>: Failed to resolve 'www.hsbc.com.hkhttps' ([Errno 11001] getaddrinfo failed)\"))\n"
     ]
    },
    {
     "name": "stderr",
     "output_type": "stream",
     "text": [
      " 56%|█████▋    | 1814/3216 [36:23<2:00:34,  5.16s/it]"
     ]
    },
    {
     "name": "stdout",
     "output_type": "stream",
     "text": [
      "Error downloading https://www.hsbc.com.hkhttp://www.hfi.hsbc.com.hk/data/hk/invest/unit/ut_ut-doc3_INSFUNDPFLIVPRIVP_en.pdf: HTTPSConnectionPool(host='www.hsbc.com.hkhttp', port=443): Max retries exceeded with url: /www.hfi.hsbc.com.hk/data/hk/invest/unit/ut_ut-doc3_INSFUNDPFLIVPRIVP_en.pdf (Caused by NameResolutionError(\"<urllib3.connection.HTTPSConnection object at 0x000001F022AC0140>: Failed to resolve 'www.hsbc.com.hkhttp' ([Errno 11001] getaddrinfo failed)\"))\n"
     ]
    },
    {
     "name": "stderr",
     "output_type": "stream",
     "text": [
      " 58%|█████▊    | 1854/3216 [37:45<1:42:41,  4.52s/it]"
     ]
    },
    {
     "name": "stdout",
     "output_type": "stream",
     "text": [
      "Error downloading https://www.hsbc.com.hkhttps://hsbc.com.hk/content/dam/hsbc/hk/vam/pdf/IBB_GetInsuredOnlineChallenge_Jan2025_TC_SC.pdf: HTTPSConnectionPool(host='www.hsbc.com.hkhttps', port=443): Max retries exceeded with url: /hsbc.com.hk/content/dam/hsbc/hk/vam/pdf/IBB_GetInsuredOnlineChallenge_Jan2025_TC_SC.pdf (Caused by NameResolutionError(\"<urllib3.connection.HTTPSConnection object at 0x000001F022A85D30>: Failed to resolve 'www.hsbc.com.hkhttps' ([Errno 11001] getaddrinfo failed)\"))\n"
     ]
    },
    {
     "name": "stderr",
     "output_type": "stream",
     "text": [
      " 58%|█████▊    | 1877/3216 [38:27<37:34,  1.68s/it]  "
     ]
    },
    {
     "name": "stdout",
     "output_type": "stream",
     "text": [
      "Error downloading https://www.redhotoffers.hsbc.com.hk/content/dam/hsbc/hk/tc/docs/credit-cards/hsbc-credit-card-terms.pdf: 404 Client Error: Not Found for url: https://www.redhotoffers.hsbc.com.hk/content/dam/hsbc/hk/tc/docs/credit-cards/hsbc-credit-card-terms.pdf\n"
     ]
    },
    {
     "name": "stderr",
     "output_type": "stream",
     "text": [
      " 59%|█████▊    | 1883/3216 [38:37<34:29,  1.55s/it]"
     ]
    },
    {
     "name": "stdout",
     "output_type": "stream",
     "text": [
      "Error downloading https://www.redhotoffers.hsbc.com.hk/content/dam/hsbc/hk/sc/docs/credit-cards/2023-Jan-15-credit-card-terms-and-conditions.pdf: 404 Client Error: Not Found for url: https://www.redhotoffers.hsbc.com.hk/content/dam/hsbc/hk/sc/docs/credit-cards/2023-Jan-15-credit-card-terms-and-conditions.pdf\n"
     ]
    },
    {
     "name": "stderr",
     "output_type": "stream",
     "text": [
      " 59%|█████▉    | 1891/3216 [39:00<1:38:58,  4.48s/it]"
     ]
    },
    {
     "name": "stdout",
     "output_type": "stream",
     "text": [
      "Error downloading https://www.hsbc.com.hkhttps://retailbank.hsbc.com.hk/media/3836/non-cohabiting-partner-declaration_with-sample.pdf: HTTPSConnectionPool(host='www.hsbc.com.hkhttps', port=443): Max retries exceeded with url: /retailbank.hsbc.com.hk/media/3836/non-cohabiting-partner-declaration_with-sample.pdf (Caused by NameResolutionError(\"<urllib3.connection.HTTPSConnection object at 0x000001F022AB7320>: Failed to resolve 'www.hsbc.com.hkhttps' ([Errno 11001] getaddrinfo failed)\"))\n"
     ]
    },
    {
     "name": "stderr",
     "output_type": "stream",
     "text": [
      " 59%|█████▉    | 1906/3216 [39:38<1:44:26,  4.78s/it]"
     ]
    },
    {
     "name": "stdout",
     "output_type": "stream",
     "text": [
      "Error downloading https://www.hsbc.com.hkhttps://www.business.hsbc.com.hk/-/media/library/business-hk/pdfs/en/pbs029.pdf: HTTPSConnectionPool(host='www.hsbc.com.hkhttps', port=443): Max retries exceeded with url: /www.business.hsbc.com.hk/-/media/library/business-hk/pdfs/en/pbs029.pdf (Caused by NameResolutionError(\"<urllib3.connection.HTTPSConnection object at 0x000001F022A8F140>: Failed to resolve 'www.hsbc.com.hkhttps' ([Errno 11001] getaddrinfo failed)\"))\n"
     ]
    },
    {
     "name": "stderr",
     "output_type": "stream",
     "text": [
      " 61%|██████    | 1953/3216 [41:07<1:32:45,  4.41s/it]"
     ]
    },
    {
     "name": "stdout",
     "output_type": "stream",
     "text": [
      "Error downloading https://www.hsbc.com.hkhttp://www.irs.gov/pub/irs-pdf/iw8ben.pdf: HTTPSConnectionPool(host='www.hsbc.com.hkhttp', port=443): Max retries exceeded with url: /www.irs.gov/pub/irs-pdf/iw8ben.pdf (Caused by NameResolutionError(\"<urllib3.connection.HTTPSConnection object at 0x000001F022A8FD10>: Failed to resolve 'www.hsbc.com.hkhttp' ([Errno 11001] getaddrinfo failed)\"))\n"
     ]
    },
    {
     "name": "stderr",
     "output_type": "stream",
     "text": [
      " 61%|██████    | 1956/3216 [41:21<1:53:33,  5.41s/it]"
     ]
    },
    {
     "name": "stdout",
     "output_type": "stream",
     "text": [
      "Error downloading https://www.redhotoffers.hsbc.com.hkhttps://www.hsbc.com.hk/content/dam/hsbc/hk/tc/docs/credit-cards/offers/welcome-online-terms-and-conditions.pdf: HTTPSConnectionPool(host='www.redhotoffers.hsbc.com.hkhttps', port=443): Max retries exceeded with url: /www.hsbc.com.hk/content/dam/hsbc/hk/tc/docs/credit-cards/offers/welcome-online-terms-and-conditions.pdf (Caused by NameResolutionError(\"<urllib3.connection.HTTPSConnection object at 0x000001F022AC12B0>: Failed to resolve 'www.redhotoffers.hsbc.com.hkhttps' ([Errno 11001] getaddrinfo failed)\"))\n"
     ]
    },
    {
     "name": "stderr",
     "output_type": "stream",
     "text": [
      " 61%|██████▏   | 1970/3216 [41:46<30:18,  1.46s/it]  "
     ]
    },
    {
     "name": "stdout",
     "output_type": "stream",
     "text": [
      "Error downloading https://www.hsbc.com.hk/content/dam/hsbc/hk/tc/docs/important-notices/hsbc-mastercard-debit-card-terms-and-conditions.pdf: 404 Client Error: Not Found for url: https://www.hsbc.com.hk/content/dam/hsbc/hk/tc/docs/important-notices/hsbc-mastercard-debit-card-terms-and-conditions.pdf\n"
     ]
    },
    {
     "name": "stderr",
     "output_type": "stream",
     "text": [
      " 62%|██████▏   | 1980/3216 [42:12<1:33:09,  4.52s/it]"
     ]
    },
    {
     "name": "stdout",
     "output_type": "stream",
     "text": [
      "Error downloading https://www.hsbc.com.hkhttps://cdn.hsbc.com.hk/content/dam/hsbc/hk/docs/mpf/in12.pdf: HTTPSConnectionPool(host='www.hsbc.com.hkhttps', port=443): Max retries exceeded with url: /cdn.hsbc.com.hk/content/dam/hsbc/hk/docs/mpf/in12.pdf (Caused by NameResolutionError(\"<urllib3.connection.HTTPSConnection object at 0x000001F022A8FE00>: Failed to resolve 'www.hsbc.com.hkhttps' ([Errno 11001] getaddrinfo failed)\"))\n"
     ]
    },
    {
     "name": "stderr",
     "output_type": "stream",
     "text": [
      " 62%|██████▏   | 1998/3216 [42:55<1:38:05,  4.83s/it]"
     ]
    },
    {
     "name": "stdout",
     "output_type": "stream",
     "text": [
      "Error downloading https://payme.hsbc.com.hkhttps://payme.hsbc.com.hk/files/Business-Starter-Guide.pdf: HTTPSConnectionPool(host='payme.hsbc.com.hkhttps', port=443): Max retries exceeded with url: /payme.hsbc.com.hk/files/Business-Starter-Guide.pdf (Caused by NameResolutionError(\"<urllib3.connection.HTTPSConnection object at 0x000001F022A87770>: Failed to resolve 'payme.hsbc.com.hkhttps' ([Errno 11001] getaddrinfo failed)\"))\n"
     ]
    },
    {
     "name": "stderr",
     "output_type": "stream",
     "text": [
      " 62%|██████▏   | 2004/3216 [43:14<1:38:20,  4.87s/it]"
     ]
    },
    {
     "name": "stdout",
     "output_type": "stream",
     "text": [
      "Error downloading https://www.hsbc.com.hkhttps://www.hsbc.com.hk/content/dam/hsbc/hk/vam/pdf/IBB_GetInsuredOnlineChallenge_Jan2025_TC_SC.pdf: HTTPSConnectionPool(host='www.hsbc.com.hkhttps', port=443): Max retries exceeded with url: /www.hsbc.com.hk/content/dam/hsbc/hk/vam/pdf/IBB_GetInsuredOnlineChallenge_Jan2025_TC_SC.pdf (Caused by NameResolutionError(\"<urllib3.connection.HTTPSConnection object at 0x000001F022A844D0>: Failed to resolve 'www.hsbc.com.hkhttps' ([Errno 11001] getaddrinfo failed)\"))\n"
     ]
    },
    {
     "name": "stderr",
     "output_type": "stream",
     "text": [
      " 63%|██████▎   | 2018/3216 [43:49<1:35:45,  4.80s/it]"
     ]
    },
    {
     "name": "stdout",
     "output_type": "stream",
     "text": [
      "Error downloading https://www.hsbc.com.hkhttps://cdn.hsbc.com.hk/content/dam/hsbc/hk/sc/docs/investments/stocks/top-trader-club/local-securities-product-fact-sheet.pdf: HTTPSConnectionPool(host='www.hsbc.com.hkhttps', port=443): Max retries exceeded with url: /cdn.hsbc.com.hk/content/dam/hsbc/hk/sc/docs/investments/stocks/top-trader-club/local-securities-product-fact-sheet.pdf (Caused by NameResolutionError(\"<urllib3.connection.HTTPSConnection object at 0x000001F022AB7260>: Failed to resolve 'www.hsbc.com.hkhttps' ([Errno 11001] getaddrinfo failed)\"))\n"
     ]
    },
    {
     "name": "stderr",
     "output_type": "stream",
     "text": [
      " 63%|██████▎   | 2019/3216 [44:00<2:14:24,  6.74s/it]"
     ]
    },
    {
     "name": "stdout",
     "output_type": "stream",
     "text": [
      "Error downloading https://retailbank.hsbc.com.hkhttps://www.hsbc.com.hk/content/dam/hsbc/hk/docs/insurance/medical/offers/swift-guard/SAVE15.pdf: HTTPSConnectionPool(host='retailbank.hsbc.com.hkhttps', port=443): Max retries exceeded with url: /www.hsbc.com.hk/content/dam/hsbc/hk/docs/insurance/medical/offers/swift-guard/SAVE15.pdf (Caused by NameResolutionError(\"<urllib3.connection.HTTPSConnection object at 0x000001F022AC13A0>: Failed to resolve 'retailbank.hsbc.com.hkhttps' ([Errno 11001] getaddrinfo failed)\"))\n"
     ]
    },
    {
     "name": "stderr",
     "output_type": "stream",
     "text": [
      " 63%|██████▎   | 2033/3216 [44:34<1:29:15,  4.53s/it]"
     ]
    },
    {
     "name": "stdout",
     "output_type": "stream",
     "text": [
      "Error downloading https://www.hsbc.com.hkhttps://www.hsbc.com.hk/content/dam/hsbc/hk/vam/pdf/2025_Visa_Signature_Card_Special_Reward_Promotion_TNC_EN.pdf: HTTPSConnectionPool(host='www.hsbc.com.hkhttps', port=443): Max retries exceeded with url: /www.hsbc.com.hk/content/dam/hsbc/hk/vam/pdf/2025_Visa_Signature_Card_Special_Reward_Promotion_TNC_EN.pdf (Caused by NameResolutionError(\"<urllib3.connection.HTTPSConnection object at 0x000001F022AC0950>: Failed to resolve 'www.hsbc.com.hkhttps' ([Errno 11001] getaddrinfo failed)\"))\n"
     ]
    },
    {
     "name": "stderr",
     "output_type": "stream",
     "text": [
      " 64%|██████▍   | 2060/3216 [45:29<1:28:44,  4.61s/it]"
     ]
    },
    {
     "name": "stdout",
     "output_type": "stream",
     "text": [
      "Error downloading https://www.hsbc.com.hkhttps://cdn.hsbc.com.hk/content/dam/hsbc/hk/tc/docs/investments/stocks/top-trader-club/us-stocks-product-fact-sheet.pdf: HTTPSConnectionPool(host='www.hsbc.com.hkhttps', port=443): Max retries exceeded with url: /cdn.hsbc.com.hk/content/dam/hsbc/hk/tc/docs/investments/stocks/top-trader-club/us-stocks-product-fact-sheet.pdf (Caused by NameResolutionError(\"<urllib3.connection.HTTPSConnection object at 0x000001F022A85010>: Failed to resolve 'www.hsbc.com.hkhttps' ([Errno 11001] getaddrinfo failed)\"))\n"
     ]
    },
    {
     "name": "stderr",
     "output_type": "stream",
     "text": [
      " 64%|██████▍   | 2064/3216 [45:46<1:43:50,  5.41s/it]"
     ]
    },
    {
     "name": "stdout",
     "output_type": "stream",
     "text": [
      "Error downloading https://www.hsbc.com.hkhttps://www.hsbc.com.hk/content/dam/hsbc/hk/vam/pdf/EBSTNC_EXE_EN_2025.pdf: HTTPSConnectionPool(host='www.hsbc.com.hkhttps', port=443): Max retries exceeded with url: /www.hsbc.com.hk/content/dam/hsbc/hk/vam/pdf/EBSTNC_EXE_EN_2025.pdf (Caused by NameResolutionError(\"<urllib3.connection.HTTPSConnection object at 0x000001F022A86090>: Failed to resolve 'www.hsbc.com.hkhttps' ([Errno 11001] getaddrinfo failed)\"))\n"
     ]
    },
    {
     "name": "stderr",
     "output_type": "stream",
     "text": [
      " 64%|██████▍   | 2068/3216 [45:53<47:43,  2.49s/it]  "
     ]
    },
    {
     "name": "stdout",
     "output_type": "stream",
     "text": [
      "Error downloading https://www.redhotoffers.hsbc.com.hk/content/dam/hsbc/hk/docs/credit-cards/visa-signature/tc/welcome-pack.pdf: 404 Client Error: Not Found for url: https://www.redhotoffers.hsbc.com.hk/content/dam/hsbc/hk/docs/credit-cards/visa-signature/tc/welcome-pack.pdf\n"
     ]
    },
    {
     "name": "stderr",
     "output_type": "stream",
     "text": [
      " 64%|██████▍   | 2072/3216 [46:10<1:31:06,  4.78s/it]"
     ]
    },
    {
     "name": "stdout",
     "output_type": "stream",
     "text": [
      "Error downloading https://www.hsbc.com.hkhttp://www.hsbc.com.hk/mpf/tc/pb.pdf: HTTPSConnectionPool(host='www.hsbc.com.hkhttp', port=443): Max retries exceeded with url: /www.hsbc.com.hk/mpf/tc/pb.pdf (Caused by NameResolutionError(\"<urllib3.connection.HTTPSConnection object at 0x000001F022A8C320>: Failed to resolve 'www.hsbc.com.hkhttp' ([Errno 11001] getaddrinfo failed)\"))\n"
     ]
    },
    {
     "name": "stderr",
     "output_type": "stream",
     "text": [
      " 65%|██████▍   | 2078/3216 [46:29<1:34:07,  4.96s/it]"
     ]
    },
    {
     "name": "stdout",
     "output_type": "stream",
     "text": [
      "Error downloading https://www.hsbc.com.hkhttps://www.hsbc.com.hk/content/dam/hsbc/hk/tc/docs/mpf/bonus_unit_offer.pdf: HTTPSConnectionPool(host='www.hsbc.com.hkhttps', port=443): Max retries exceeded with url: /www.hsbc.com.hk/content/dam/hsbc/hk/tc/docs/mpf/bonus_unit_offer.pdf (Caused by NameResolutionError(\"<urllib3.connection.HTTPSConnection object at 0x000001F022A8F020>: Failed to resolve 'www.hsbc.com.hkhttps' ([Errno 11001] getaddrinfo failed)\"))\n"
     ]
    },
    {
     "name": "stderr",
     "output_type": "stream",
     "text": [
      " 68%|██████▊   | 2178/3216 [49:27<24:52,  1.44s/it]  "
     ]
    },
    {
     "name": "stdout",
     "output_type": "stream",
     "text": [
      "Error downloading https://www.hsbc.com.hk/content/dam/hsbc/hk/docs/mpfmfps_apr18.pdf: 404 Client Error: Not Found for url: https://www.hsbc.com.hk/content/dam/hsbc/hk/docs/mpfmfps_apr18.pdf\n"
     ]
    },
    {
     "name": "stderr",
     "output_type": "stream",
     "text": [
      " 69%|██████▉   | 2211/3216 [50:35<1:18:09,  4.67s/it]"
     ]
    },
    {
     "name": "stdout",
     "output_type": "stream",
     "text": [
      "Error downloading https://www.hsbc.com.hkhttps://www.about.hsbc.com.hk/-/media/hong-kong/en/news-and-media/210803-hsbc-warns-against-phishing-emails-and-fraudulent-websites-eng.pdf: HTTPSConnectionPool(host='www.hsbc.com.hkhttps', port=443): Max retries exceeded with url: /www.about.hsbc.com.hk/-/media/hong-kong/en/news-and-media/210803-hsbc-warns-against-phishing-emails-and-fraudulent-websites-eng.pdf (Caused by NameResolutionError(\"<urllib3.connection.HTTPSConnection object at 0x000001F022AB56A0>: Failed to resolve 'www.hsbc.com.hkhttps' ([Errno 11001] getaddrinfo failed)\"))\n"
     ]
    },
    {
     "name": "stderr",
     "output_type": "stream",
     "text": [
      " 69%|██████▉   | 2215/3216 [50:53<1:29:34,  5.37s/it]"
     ]
    },
    {
     "name": "stdout",
     "output_type": "stream",
     "text": [
      "Error downloading https://www.hsbc.com.hkhttps://www.hsbc.com.hk/content/dam/hsbc/hk/docs/mpf/member-service-guide.pdf: HTTPSConnectionPool(host='www.hsbc.com.hkhttps', port=443): Max retries exceeded with url: /www.hsbc.com.hk/content/dam/hsbc/hk/docs/mpf/member-service-guide.pdf (Caused by NameResolutionError(\"<urllib3.connection.HTTPSConnection object at 0x000001F022A86D20>: Failed to resolve 'www.hsbc.com.hkhttps' ([Errno 11001] getaddrinfo failed)\"))\n"
     ]
    },
    {
     "name": "stderr",
     "output_type": "stream",
     "text": [
      " 70%|██████▉   | 2243/3216 [51:53<1:15:18,  4.64s/it]"
     ]
    },
    {
     "name": "stdout",
     "output_type": "stream",
     "text": [
      "Error downloading https://www.hsbc.com.hkhttps://www.about.hsbc.com.hk/-/media/hong-kong/zh-hk/news-and-media/230113-hsbc-warns-against-phishing-email-hk.pdf: HTTPSConnectionPool(host='www.hsbc.com.hkhttps', port=443): Max retries exceeded with url: /www.about.hsbc.com.hk/-/media/hong-kong/zh-hk/news-and-media/230113-hsbc-warns-against-phishing-email-hk.pdf (Caused by NameResolutionError(\"<urllib3.connection.HTTPSConnection object at 0x000001F022A862D0>: Failed to resolve 'www.hsbc.com.hkhttps' ([Errno 11001] getaddrinfo failed)\"))\n"
     ]
    },
    {
     "name": "stderr",
     "output_type": "stream",
     "text": [
      " 70%|███████   | 2255/3216 [52:15<25:29,  1.59s/it]  "
     ]
    },
    {
     "name": "stdout",
     "output_type": "stream",
     "text": [
      "Error downloading https://www.hsbc.com.hk/content/dam/hsbc/hk/docs/mpf/mfps_nov17.pdf: 404 Client Error: Not Found for url: https://www.hsbc.com.hk/content/dam/hsbc/hk/docs/mpf/mfps_nov17.pdf\n"
     ]
    },
    {
     "name": "stderr",
     "output_type": "stream",
     "text": [
      " 71%|███████   | 2276/3216 [53:01<1:11:45,  4.58s/it]"
     ]
    },
    {
     "name": "stdout",
     "output_type": "stream",
     "text": [
      "Error downloading https://www.hsbc.com.hkhttps://cdn.hsbc.com.hk/content/dam/hsbc/hk/sc/docs/investments/stocks/trade25/general-conditions.pdf: HTTPSConnectionPool(host='www.hsbc.com.hkhttps', port=443): Max retries exceeded with url: /cdn.hsbc.com.hk/content/dam/hsbc/hk/sc/docs/investments/stocks/trade25/general-conditions.pdf (Caused by NameResolutionError(\"<urllib3.connection.HTTPSConnection object at 0x000001F022AB4410>: Failed to resolve 'www.hsbc.com.hkhttps' ([Errno 11001] getaddrinfo failed)\"))\n"
     ]
    },
    {
     "name": "stderr",
     "output_type": "stream",
     "text": [
      " 71%|███████▏  | 2294/3216 [53:37<27:53,  1.82s/it]  "
     ]
    },
    {
     "name": "stdout",
     "output_type": "stream",
     "text": [
      "Error downloading https://www.redhotoffers.hsbc.com.hk/content/dam/hsbc/hk/tc/docs/credit-cards/cash-instalment-plan/ntc-promotional-tnc.pdf: 404 Client Error: Not Found for url: https://www.redhotoffers.hsbc.com.hk/content/dam/hsbc/hk/tc/docs/credit-cards/cash-instalment-plan/ntc-promotional-tnc.pdf\n"
     ]
    },
    {
     "name": "stderr",
     "output_type": "stream",
     "text": [
      " 72%|███████▏  | 2309/3216 [54:12<1:08:13,  4.51s/it]"
     ]
    },
    {
     "name": "stdout",
     "output_type": "stream",
     "text": [
      "Error downloading https://www.hsbc.com.hkhttp://www.hxb.com.cn/chinese/hotnews/sjyhqhb/yinsixieyi/ampolicy.pdf: HTTPSConnectionPool(host='www.hsbc.com.hkhttp', port=443): Max retries exceeded with url: /www.hxb.com.cn/chinese/hotnews/sjyhqhb/yinsixieyi/ampolicy.pdf (Caused by NameResolutionError(\"<urllib3.connection.HTTPSConnection object at 0x000001F022AB7110>: Failed to resolve 'www.hsbc.com.hkhttp' ([Errno 11001] getaddrinfo failed)\"))\n"
     ]
    },
    {
     "name": "stderr",
     "output_type": "stream",
     "text": [
      " 73%|███████▎  | 2350/3216 [55:36<1:07:13,  4.66s/it]"
     ]
    },
    {
     "name": "stdout",
     "output_type": "stream",
     "text": [
      "Error downloading https://www.redhotoffers.hsbc.com.hkhttps://www.hsbc.com.hk/content/dam/hsbc/hk/sc/docs/credit-cards/cash-instalment-plan/ntc-promotional-tnc.pdf: HTTPSConnectionPool(host='www.redhotoffers.hsbc.com.hkhttps', port=443): Max retries exceeded with url: /www.hsbc.com.hk/content/dam/hsbc/hk/sc/docs/credit-cards/cash-instalment-plan/ntc-promotional-tnc.pdf (Caused by NameResolutionError(\"<urllib3.connection.HTTPSConnection object at 0x000001F022A8DEE0>: Failed to resolve 'www.redhotoffers.hsbc.com.hkhttps' ([Errno 11001] getaddrinfo failed)\"))\n"
     ]
    },
    {
     "name": "stderr",
     "output_type": "stream",
     "text": [
      " 74%|███████▍  | 2382/3216 [56:44<1:05:28,  4.71s/it]"
     ]
    },
    {
     "name": "stdout",
     "output_type": "stream",
     "text": [
      "Error downloading https://www.hsbc.com.hkhttps://www.hsbc.com.hk/content/dam/hsbc/hk/vam/pdf/EBSTNC_GEN_SC_2025.pdf: HTTPSConnectionPool(host='www.hsbc.com.hkhttps', port=443): Max retries exceeded with url: /www.hsbc.com.hk/content/dam/hsbc/hk/vam/pdf/EBSTNC_GEN_SC_2025.pdf (Caused by NameResolutionError(\"<urllib3.connection.HTTPSConnection object at 0x000001F022A8FF20>: Failed to resolve 'www.hsbc.com.hkhttps' ([Errno 11001] getaddrinfo failed)\"))\n"
     ]
    },
    {
     "name": "stderr",
     "output_type": "stream",
     "text": [
      " 75%|███████▌  | 2422/3216 [58:09<1:04:46,  4.90s/it]"
     ]
    },
    {
     "name": "stdout",
     "output_type": "stream",
     "text": [
      "Error downloading https://www.hsbc.com.hkhttp://www.hfi.hsbc.com.hk/data/hk/invest/unit/ut_ut-doc3_INSFUNDPFWIIP_tw.pdf: HTTPSConnectionPool(host='www.hsbc.com.hkhttp', port=443): Max retries exceeded with url: /www.hfi.hsbc.com.hk/data/hk/invest/unit/ut_ut-doc3_INSFUNDPFWIIP_tw.pdf (Caused by NameResolutionError(\"<urllib3.connection.HTTPSConnection object at 0x000001F0215752E0>: Failed to resolve 'www.hsbc.com.hkhttp' ([Errno 11001] getaddrinfo failed)\"))\n"
     ]
    },
    {
     "name": "stderr",
     "output_type": "stream",
     "text": [
      " 76%|███████▌  | 2431/3216 [58:34<1:02:46,  4.80s/it]"
     ]
    },
    {
     "name": "stdout",
     "output_type": "stream",
     "text": [
      "Error downloading https://www.hsbc.com.hkhttp://www.hfi.hsbc.com.hk/data/hk/invest/unit/ut_ut-doc3_INSFUNDPFLIVPRIVP_tw.pdf: HTTPSConnectionPool(host='www.hsbc.com.hkhttp', port=443): Max retries exceeded with url: /www.hfi.hsbc.com.hk/data/hk/invest/unit/ut_ut-doc3_INSFUNDPFLIVPRIVP_tw.pdf (Caused by NameResolutionError(\"<urllib3.connection.HTTPSConnection object at 0x000001F022A87A40>: Failed to resolve 'www.hsbc.com.hkhttp' ([Errno 11001] getaddrinfo failed)\"))\n"
     ]
    },
    {
     "name": "stderr",
     "output_type": "stream",
     "text": [
      " 76%|███████▌  | 2433/3216 [58:47<1:19:13,  6.07s/it]"
     ]
    },
    {
     "name": "stdout",
     "output_type": "stream",
     "text": [
      "Error downloading https://www.hsbc.com.hkhttps://www.mpfa.org.hk/-/media/files/useful-tools/forms/mpf-schemes/for-scheme-members/4_transfer-of-accrued-benefits/chi/annex_b_to_iv_3_c.pdf: HTTPSConnectionPool(host='www.hsbc.com.hkhttps', port=443): Max retries exceeded with url: /www.mpfa.org.hk/-/media/files/useful-tools/forms/mpf-schemes/for-scheme-members/4_transfer-of-accrued-benefits/chi/annex_b_to_iv_3_c.pdf (Caused by NameResolutionError(\"<urllib3.connection.HTTPSConnection object at 0x000001F022A85D30>: Failed to resolve 'www.hsbc.com.hkhttps' ([Errno 11001] getaddrinfo failed)\"))\n"
     ]
    },
    {
     "name": "stderr",
     "output_type": "stream",
     "text": [
      " 76%|███████▌  | 2434/3216 [58:59<1:39:33,  7.64s/it]"
     ]
    },
    {
     "name": "stdout",
     "output_type": "stream",
     "text": [
      "Error downloading https://www.hsbc.com.hkhttp://www.hfi.hsbc.com.hk/data/hk/invest/unit/ut_ut-doc3_INSFUNDPFWIIP_en.pdf: HTTPSConnectionPool(host='www.hsbc.com.hkhttp', port=443): Max retries exceeded with url: /www.hfi.hsbc.com.hk/data/hk/invest/unit/ut_ut-doc3_INSFUNDPFWIIP_en.pdf (Caused by NameResolutionError(\"<urllib3.connection.HTTPSConnection object at 0x000001F022AB76E0>: Failed to resolve 'www.hsbc.com.hkhttp' ([Errno 11001] getaddrinfo failed)\"))\n"
     ]
    },
    {
     "name": "stderr",
     "output_type": "stream",
     "text": [
      " 76%|███████▌  | 2437/3216 [59:13<1:26:24,  6.66s/it]"
     ]
    },
    {
     "name": "stdout",
     "output_type": "stream",
     "text": [
      "Error downloading https://www.hsbc.com.hkhttps://www.hsbc.com.hk/content/dam/hsbc/hk/vam/pdf/well_plus_data_privacy_notice_sc.pdf: HTTPSConnectionPool(host='www.hsbc.com.hkhttps', port=443): Max retries exceeded with url: /www.hsbc.com.hk/content/dam/hsbc/hk/vam/pdf/well_plus_data_privacy_notice_sc.pdf (Caused by NameResolutionError(\"<urllib3.connection.HTTPSConnection object at 0x000001F022AB4560>: Failed to resolve 'www.hsbc.com.hkhttps' ([Errno 11001] getaddrinfo failed)\"))\n"
     ]
    },
    {
     "name": "stderr",
     "output_type": "stream",
     "text": [
      " 76%|███████▋  | 2460/3216 [59:53<19:04,  1.51s/it]  "
     ]
    },
    {
     "name": "stdout",
     "output_type": "stream",
     "text": [
      "Error downloading https://www.hsbc.com.hk/content/dam/hsbc/hk/docs/mpf/mfps_may18.pdf: 404 Client Error: Not Found for url: https://www.hsbc.com.hk/content/dam/hsbc/hk/docs/mpf/mfps_may18.pdf\n"
     ]
    },
    {
     "name": "stderr",
     "output_type": "stream",
     "text": [
      " 77%|███████▋  | 2463/3216 [1:00:07<55:55,  4.46s/it]"
     ]
    },
    {
     "name": "stdout",
     "output_type": "stream",
     "text": [
      "Error downloading https://www.hsbc.com.hkhttps://www.hsbc.com.hk/mpf/mtd.pdf: HTTPSConnectionPool(host='www.hsbc.com.hkhttps', port=443): Max retries exceeded with url: /www.hsbc.com.hk/mpf/mtd.pdf (Caused by NameResolutionError(\"<urllib3.connection.HTTPSConnection object at 0x000001F021577950>: Failed to resolve 'www.hsbc.com.hkhttps' ([Errno 11001] getaddrinfo failed)\"))\n"
     ]
    },
    {
     "name": "stderr",
     "output_type": "stream",
     "text": [
      " 77%|███████▋  | 2477/3216 [1:00:42<56:37,  4.60s/it]"
     ]
    },
    {
     "name": "stdout",
     "output_type": "stream",
     "text": [
      "Error downloading https://www.hsbc.com.hkhttps://www.hsbc.com.hk/content/dam/hsbc/hk/vam/pdf/EBSLeaflet_GEN_SC_2025.pdf: HTTPSConnectionPool(host='www.hsbc.com.hkhttps', port=443): Max retries exceeded with url: /www.hsbc.com.hk/content/dam/hsbc/hk/vam/pdf/EBSLeaflet_GEN_SC_2025.pdf (Caused by NameResolutionError(\"<urllib3.connection.HTTPSConnection object at 0x000001F022AC1DC0>: Failed to resolve 'www.hsbc.com.hkhttps' ([Errno 11001] getaddrinfo failed)\"))\n"
     ]
    },
    {
     "name": "stderr",
     "output_type": "stream",
     "text": [
      " 78%|███████▊  | 2519/3216 [1:02:04<55:05,  4.74s/it]"
     ]
    },
    {
     "name": "stdout",
     "output_type": "stream",
     "text": [
      "Error downloading https://www.hsbc.com.hkhttps://www.business.hsbc.com.hk/-/media/library/business-hk/pdfs/en/pbs030.pdf: HTTPSConnectionPool(host='www.hsbc.com.hkhttps', port=443): Max retries exceeded with url: /www.business.hsbc.com.hk/-/media/library/business-hk/pdfs/en/pbs030.pdf (Caused by NameResolutionError(\"<urllib3.connection.HTTPSConnection object at 0x000001F022A87470>: Failed to resolve 'www.hsbc.com.hkhttps' ([Errno 11001] getaddrinfo failed)\"))\n"
     ]
    },
    {
     "name": "stderr",
     "output_type": "stream",
     "text": [
      " 80%|███████▉  | 2560/3216 [1:03:24<52:25,  4.80s/it]"
     ]
    },
    {
     "name": "stdout",
     "output_type": "stream",
     "text": [
      "Error downloading https://www.hsbc.com.hkhttps://www.about.hsbc.com.hk/-/media/hong-kong/zh-hk/news-and-media/180823-hsbc-introduces-new-barrier-free-banking-services-zh.pdf: HTTPSConnectionPool(host='www.hsbc.com.hkhttps', port=443): Max retries exceeded with url: /www.about.hsbc.com.hk/-/media/hong-kong/zh-hk/news-and-media/180823-hsbc-introduces-new-barrier-free-banking-services-zh.pdf (Caused by NameResolutionError(\"<urllib3.connection.HTTPSConnection object at 0x000001F022A86AE0>: Failed to resolve 'www.hsbc.com.hkhttps' ([Errno 11001] getaddrinfo failed)\"))\n"
     ]
    },
    {
     "name": "stderr",
     "output_type": "stream",
     "text": [
      " 80%|████████  | 2584/3216 [1:04:16<49:24,  4.69s/it]"
     ]
    },
    {
     "name": "stdout",
     "output_type": "stream",
     "text": [
      "Error downloading https://www.hsbc.com.hkhttps://www.about.hsbc.com.hk/-/media/hong-kong/zh-hk/news-and-media/200715-community-banking-services-for-homeless-chi.pdf: HTTPSConnectionPool(host='www.hsbc.com.hkhttps', port=443): Max retries exceeded with url: /www.about.hsbc.com.hk/-/media/hong-kong/zh-hk/news-and-media/200715-community-banking-services-for-homeless-chi.pdf (Caused by NameResolutionError(\"<urllib3.connection.HTTPSConnection object at 0x000001F022AB4770>: Failed to resolve 'www.hsbc.com.hkhttps' ([Errno 11001] getaddrinfo failed)\"))\n"
     ]
    },
    {
     "name": "stderr",
     "output_type": "stream",
     "text": [
      " 81%|████████  | 2607/3216 [1:05:08<47:06,  4.64s/it]"
     ]
    },
    {
     "name": "stdout",
     "output_type": "stream",
     "text": [
      "Error downloading https://www.hsbc.com.hkhttps://www.hsbc.com.hk/content/dam/hsbc/hk/vam/pdf/IBB_GetInsuredOnlineChallenge_Jan2025_TC_TC.pdf: HTTPSConnectionPool(host='www.hsbc.com.hkhttps', port=443): Max retries exceeded with url: /www.hsbc.com.hk/content/dam/hsbc/hk/vam/pdf/IBB_GetInsuredOnlineChallenge_Jan2025_TC_TC.pdf (Caused by NameResolutionError(\"<urllib3.connection.HTTPSConnection object at 0x000001F022AB5910>: Failed to resolve 'www.hsbc.com.hkhttps' ([Errno 11001] getaddrinfo failed)\"))\n"
     ]
    },
    {
     "name": "stderr",
     "output_type": "stream",
     "text": [
      " 81%|████████  | 2609/3216 [1:05:20<1:00:10,  5.95s/it]"
     ]
    },
    {
     "name": "stdout",
     "output_type": "stream",
     "text": [
      "Error downloading https://www.redhotoffers.hsbc.com.hkhttps://www.hsbc.com.hk/content/dam/hsbc/hk/vam/pdf/2025_Visa_Signature_Card_Special_Reward_Promotion_TNC_TC.pdf: HTTPSConnectionPool(host='www.redhotoffers.hsbc.com.hkhttps', port=443): Max retries exceeded with url: /www.hsbc.com.hk/content/dam/hsbc/hk/vam/pdf/2025_Visa_Signature_Card_Special_Reward_Promotion_TNC_TC.pdf (Caused by NameResolutionError(\"<urllib3.connection.HTTPSConnection object at 0x000001F022AC21B0>: Failed to resolve 'www.redhotoffers.hsbc.com.hkhttps' ([Errno 11001] getaddrinfo failed)\"))\n"
     ]
    },
    {
     "name": "stderr",
     "output_type": "stream",
     "text": [
      " 82%|████████▏ | 2636/3216 [1:06:25<45:34,  4.71s/it]  "
     ]
    },
    {
     "name": "stdout",
     "output_type": "stream",
     "text": [
      "Error downloading https://retailbank.hsbc.com.hkhttps://www.hsbc.com.hk/content/dam/hsbc/hk/docs/insurance/life/offers/2025-q1-product-offers-terms.pdf: HTTPSConnectionPool(host='retailbank.hsbc.com.hkhttps', port=443): Max retries exceeded with url: /www.hsbc.com.hk/content/dam/hsbc/hk/docs/insurance/life/offers/2025-q1-product-offers-terms.pdf (Caused by NameResolutionError(\"<urllib3.connection.HTTPSConnection object at 0x000001F022AC2F00>: Failed to resolve 'retailbank.hsbc.com.hkhttps' ([Errno 11001] getaddrinfo failed)\"))\n"
     ]
    },
    {
     "name": "stderr",
     "output_type": "stream",
     "text": [
      " 82%|████████▏ | 2641/3216 [1:06:43<48:07,  5.02s/it]"
     ]
    },
    {
     "name": "stdout",
     "output_type": "stream",
     "text": [
      "Error downloading https://www.hsbc.com.hkhttps://www.hsbc.com.hk/content/dam/hsbc/hk/vam/pdf/GPB_Status_TnC_TC.pdf: HTTPSConnectionPool(host='www.hsbc.com.hkhttps', port=443): Max retries exceeded with url: /www.hsbc.com.hk/content/dam/hsbc/hk/vam/pdf/GPB_Status_TnC_TC.pdf (Caused by NameResolutionError(\"<urllib3.connection.HTTPSConnection object at 0x000001F022A8FF80>: Failed to resolve 'www.hsbc.com.hkhttps' ([Errno 11001] getaddrinfo failed)\"))\n"
     ]
    },
    {
     "name": "stderr",
     "output_type": "stream",
     "text": [
      " 83%|████████▎ | 2682/3216 [1:08:01<39:17,  4.41s/it]"
     ]
    },
    {
     "name": "stdout",
     "output_type": "stream",
     "text": [
      "Error downloading https://payme.hsbc.com.hkhttps://payme.hsbc.com.hk/files/PayMe_POS_quick_start_user_guide.pdf: HTTPSConnectionPool(host='payme.hsbc.com.hkhttps', port=443): Max retries exceeded with url: /payme.hsbc.com.hk/files/PayMe_POS_quick_start_user_guide.pdf (Caused by NameResolutionError(\"<urllib3.connection.HTTPSConnection object at 0x000001F022A8F290>: Failed to resolve 'payme.hsbc.com.hkhttps' ([Errno 11001] getaddrinfo failed)\"))\n"
     ]
    },
    {
     "name": "stderr",
     "output_type": "stream",
     "text": [
      " 85%|████████▌ | 2747/3216 [1:09:56<11:14,  1.44s/it]"
     ]
    },
    {
     "name": "stdout",
     "output_type": "stream",
     "text": [
      "Error downloading https://www.hsbc.com.hk/content/dam/hsbc/hk/tc/docs/insurance/healthylife/user-guide-hsbc-llife.pdf: 404 Client Error: Not Found for url: https://www.hsbc.com.hk/content/dam/hsbc/hk/tc/docs/insurance/healthylife/user-guide-hsbc-llife.pdf\n"
     ]
    },
    {
     "name": "stderr",
     "output_type": "stream",
     "text": [
      " 86%|████████▌ | 2757/3216 [1:10:24<35:28,  4.64s/it]"
     ]
    },
    {
     "name": "stdout",
     "output_type": "stream",
     "text": [
      "Error downloading https://www.hsbc.com.hkhttps://cdn.hsbc.com.hk/content/dam/hsbc/hk/docs/investments/stocks/trade25/general-conditions.pdf: HTTPSConnectionPool(host='www.hsbc.com.hkhttps', port=443): Max retries exceeded with url: /cdn.hsbc.com.hk/content/dam/hsbc/hk/docs/investments/stocks/trade25/general-conditions.pdf (Caused by NameResolutionError(\"<urllib3.connection.HTTPSConnection object at 0x000001F022AB52B0>: Failed to resolve 'www.hsbc.com.hkhttps' ([Errno 11001] getaddrinfo failed)\"))\n"
     ]
    },
    {
     "name": "stderr",
     "output_type": "stream",
     "text": [
      " 86%|████████▌ | 2760/3216 [1:10:28<18:43,  2.46s/it]"
     ]
    },
    {
     "name": "stdout",
     "output_type": "stream",
     "text": [
      "Error downloading https://www.hsbc.com.hk/content/dam/hsbc/hk/docs/mpf/mfps_mar18.pdf: 404 Client Error: Not Found for url: https://www.hsbc.com.hk/content/dam/hsbc/hk/docs/mpf/mfps_mar18.pdf\n"
     ]
    },
    {
     "name": "stderr",
     "output_type": "stream",
     "text": [
      " 86%|████████▋ | 2776/3216 [1:10:55<10:32,  1.44s/it]"
     ]
    },
    {
     "name": "stdout",
     "output_type": "stream",
     "text": [
      "Error downloading https://www.hsbc.com.hk/content/dam/hsbc/hk/docs/premier-elite/lifestyle/private-club-booking-form.pdf: 404 Client Error: Not Found for url: https://www.hsbc.com.hk/content/dam/hsbc/hk/docs/premier-elite/lifestyle/private-club-booking-form.pdf\n"
     ]
    },
    {
     "name": "stderr",
     "output_type": "stream",
     "text": [
      " 88%|████████▊ | 2823/3216 [1:12:23<29:57,  4.57s/it]"
     ]
    },
    {
     "name": "stdout",
     "output_type": "stream",
     "text": [
      "Error downloading https://www.redhotoffers.hsbc.com.hkhttps://egltours.oss-cn-hongkong.aliyuncs.com/nfit/ism/productPdf/HSBC%20EXPO%20osaka%20pkg%20(250128).pdf: HTTPSConnectionPool(host='www.redhotoffers.hsbc.com.hkhttps', port=443): Max retries exceeded with url: /egltours.oss-cn-hongkong.aliyuncs.com/nfit/ism/productPdf/HSBC%20EXPO%20osaka%20pkg%20(250128).pdf (Caused by NameResolutionError(\"<urllib3.connection.HTTPSConnection object at 0x000001F022AB7F80>: Failed to resolve 'www.redhotoffers.hsbc.com.hkhttps' ([Errno 11001] getaddrinfo failed)\"))\n"
     ]
    },
    {
     "name": "stderr",
     "output_type": "stream",
     "text": [
      " 88%|████████▊ | 2828/3216 [1:12:40<29:28,  4.56s/it]"
     ]
    },
    {
     "name": "stdout",
     "output_type": "stream",
     "text": [
      "Error downloading https://www.hsbc.com.hkhttps://www.about.hsbc.com.hk/-/media/hong-kong/en/news-and-media/220719-hsbc-step-up-support-for-customers-facing-mental-health-challenges-en.pdf: HTTPSConnectionPool(host='www.hsbc.com.hkhttps', port=443): Max retries exceeded with url: /www.about.hsbc.com.hk/-/media/hong-kong/en/news-and-media/220719-hsbc-step-up-support-for-customers-facing-mental-health-challenges-en.pdf (Caused by NameResolutionError(\"<urllib3.connection.HTTPSConnection object at 0x000001F022AC0800>: Failed to resolve 'www.hsbc.com.hkhttps' ([Errno 11001] getaddrinfo failed)\"))\n"
     ]
    },
    {
     "name": "stderr",
     "output_type": "stream",
     "text": [
      " 88%|████████▊ | 2836/3216 [1:13:03<29:34,  4.67s/it]"
     ]
    },
    {
     "name": "stdout",
     "output_type": "stream",
     "text": [
      "Error downloading https://retailbank.hsbc.com.hkhttps://www.hsbc.com.hk/content/dam/hsbc/hk/docs/insurance/life/offers/2025-qdap-offers-terms.pdf: HTTPSConnectionPool(host='retailbank.hsbc.com.hkhttps', port=443): Max retries exceeded with url: /www.hsbc.com.hk/content/dam/hsbc/hk/docs/insurance/life/offers/2025-qdap-offers-terms.pdf (Caused by NameResolutionError(\"<urllib3.connection.HTTPSConnection object at 0x000001F022AC2AB0>: Failed to resolve 'retailbank.hsbc.com.hkhttps' ([Errno 11001] getaddrinfo failed)\"))\n"
     ]
    },
    {
     "name": "stderr",
     "output_type": "stream",
     "text": [
      " 88%|████████▊ | 2837/3216 [1:13:15<41:57,  6.64s/it]"
     ]
    },
    {
     "name": "stdout",
     "output_type": "stream",
     "text": [
      "Error downloading https://www.hsbc.com.hkhttp://www.hsbc.com.hk/atm-related-limit-increase-cn.pdf: HTTPSConnectionPool(host='www.hsbc.com.hkhttp', port=443): Max retries exceeded with url: /www.hsbc.com.hk/atm-related-limit-increase-cn.pdf (Caused by NameResolutionError(\"<urllib3.connection.HTTPSConnection object at 0x000001F022A84B00>: Failed to resolve 'www.hsbc.com.hkhttp' ([Errno 11001] getaddrinfo failed)\"))\n"
     ]
    },
    {
     "name": "stderr",
     "output_type": "stream",
     "text": [
      " 90%|████████▉ | 2881/3216 [1:14:43<25:27,  4.56s/it]"
     ]
    },
    {
     "name": "stdout",
     "output_type": "stream",
     "text": [
      "Error downloading https://www.hsbc.com.hkhttps://www.hsbc.com.hk/content/dam/hsbc/hk/vam/pdf/EBSLeaflet_GEN_EN_2025.pdf: HTTPSConnectionPool(host='www.hsbc.com.hkhttps', port=443): Max retries exceeded with url: /www.hsbc.com.hk/content/dam/hsbc/hk/vam/pdf/EBSLeaflet_GEN_EN_2025.pdf (Caused by NameResolutionError(\"<urllib3.connection.HTTPSConnection object at 0x000001F022AB7FB0>: Failed to resolve 'www.hsbc.com.hkhttps' ([Errno 11001] getaddrinfo failed)\"))\n"
     ]
    },
    {
     "name": "stderr",
     "output_type": "stream",
     "text": [
      " 91%|█████████ | 2933/3216 [1:16:30<17:06,  3.63s/it]"
     ]
    },
    {
     "name": "stdout",
     "output_type": "stream",
     "text": [
      "Error downloading https://www.hsbc.com.hkhttps://www.hsbc.com.hk/content/dam/hsbc/hk/vam/pdf/well_plus_data_privacy_notice_en.pdf: HTTPSConnectionPool(host='www.hsbc.com.hkhttps', port=443): Max retries exceeded with url: /www.hsbc.com.hk/content/dam/hsbc/hk/vam/pdf/well_plus_data_privacy_notice_en.pdf (Caused by NameResolutionError(\"<urllib3.connection.HTTPSConnection object at 0x000001F022A8E8A0>: Failed to resolve 'www.hsbc.com.hkhttps' ([Errno 11001] getaddrinfo failed)\"))\n"
     ]
    },
    {
     "name": "stderr",
     "output_type": "stream",
     "text": [
      " 91%|█████████▏| 2940/3216 [1:16:52<21:35,  4.69s/it]"
     ]
    },
    {
     "name": "stdout",
     "output_type": "stream",
     "text": [
      "Error downloading https://www.redhotoffers.hsbc.com.hkhttps://www.hsbc.com.hk/content/dam/hsbc/hk/vam/pdf/2025_Visa_Signature_Card_Special_Reward_Promotion_TNC_SC.pdf: HTTPSConnectionPool(host='www.redhotoffers.hsbc.com.hkhttps', port=443): Max retries exceeded with url: /www.hsbc.com.hk/content/dam/hsbc/hk/vam/pdf/2025_Visa_Signature_Card_Special_Reward_Promotion_TNC_SC.pdf (Caused by NameResolutionError(\"<urllib3.connection.HTTPSConnection object at 0x000001F022AC2A20>: Failed to resolve 'www.redhotoffers.hsbc.com.hkhttps' ([Errno 11001] getaddrinfo failed)\"))\n"
     ]
    },
    {
     "name": "stderr",
     "output_type": "stream",
     "text": [
      " 92%|█████████▏| 2946/3216 [1:17:12<22:50,  5.08s/it]"
     ]
    },
    {
     "name": "stdout",
     "output_type": "stream",
     "text": [
      "Error downloading https://www.redhotoffers.hsbc.com.hkhttps://www.hsbc.com.hk/content/dam/hsbc/hk/sc/docs/credit-cards/student/terms-and-conditions.pdf: HTTPSConnectionPool(host='www.redhotoffers.hsbc.com.hkhttps', port=443): Max retries exceeded with url: /www.hsbc.com.hk/content/dam/hsbc/hk/sc/docs/credit-cards/student/terms-and-conditions.pdf (Caused by NameResolutionError(\"<urllib3.connection.HTTPSConnection object at 0x000001F022AC31D0>: Failed to resolve 'www.redhotoffers.hsbc.com.hkhttps' ([Errno 11001] getaddrinfo failed)\"))\n"
     ]
    },
    {
     "name": "stderr",
     "output_type": "stream",
     "text": [
      " 92%|█████████▏| 2949/3216 [1:17:27<25:34,  5.75s/it]"
     ]
    },
    {
     "name": "stdout",
     "output_type": "stream",
     "text": [
      "Error downloading https://www.hsbc.com.hkhttps://cdn.hsbc.com.hk/content/dam/hsbc/hk/docs/investments/account-opening/letter-of-consent.pdf: HTTPSConnectionPool(host='www.hsbc.com.hkhttps', port=443): Max retries exceeded with url: /cdn.hsbc.com.hk/content/dam/hsbc/hk/docs/investments/account-opening/letter-of-consent.pdf (Caused by NameResolutionError(\"<urllib3.connection.HTTPSConnection object at 0x000001F022AC16D0>: Failed to resolve 'www.hsbc.com.hkhttps' ([Errno 11001] getaddrinfo failed)\"))\n"
     ]
    },
    {
     "name": "stderr",
     "output_type": "stream",
     "text": [
      " 92%|█████████▏| 2951/3216 [1:17:40<28:43,  6.51s/it]"
     ]
    },
    {
     "name": "stdout",
     "output_type": "stream",
     "text": [
      "Error downloading https://www.hsbc.com.hkhttps://www.about.hsbc.com.hk/-/media/hong-kong/en/news-and-media/190516-basic-banking-account-eng.pdf: HTTPSConnectionPool(host='www.hsbc.com.hkhttps', port=443): Max retries exceeded with url: /www.about.hsbc.com.hk/-/media/hong-kong/en/news-and-media/190516-basic-banking-account-eng.pdf (Caused by NameResolutionError(\"<urllib3.connection.HTTPSConnection object at 0x000001F0215775C0>: Failed to resolve 'www.hsbc.com.hkhttps' ([Errno 11001] getaddrinfo failed)\"))\n"
     ]
    },
    {
     "name": "stderr",
     "output_type": "stream",
     "text": [
      " 92%|█████████▏| 2972/3216 [1:18:26<18:43,  4.60s/it]"
     ]
    },
    {
     "name": "stdout",
     "output_type": "stream",
     "text": [
      "Error downloading https://retailbank.hsbc.com.hkhttps://www.hsbc.com.hk/content/dam/hsbc/hk/docs/insurance/life/offers/family-protector/9MWAIVER.pdf: HTTPSConnectionPool(host='retailbank.hsbc.com.hkhttps', port=443): Max retries exceeded with url: /www.hsbc.com.hk/content/dam/hsbc/hk/docs/insurance/life/offers/family-protector/9MWAIVER.pdf (Caused by NameResolutionError(\"<urllib3.connection.HTTPSConnection object at 0x000001F022AB72C0>: Failed to resolve 'retailbank.hsbc.com.hkhttps' ([Errno 11001] getaddrinfo failed)\"))\n"
     ]
    },
    {
     "name": "stderr",
     "output_type": "stream",
     "text": [
      " 93%|█████████▎| 2991/3216 [1:18:59<06:20,  1.69s/it]"
     ]
    },
    {
     "name": "stdout",
     "output_type": "stream",
     "text": [
      "Error downloading https://www.redhotoffers.hsbc.com.hk/content/dam/hsbc/hk/docs/credit-cards/visa-platinum-card-exclusive-offers.pdf: 404 Client Error: Not Found for url: https://www.redhotoffers.hsbc.com.hk/content/dam/hsbc/hk/docs/credit-cards/visa-platinum-card-exclusive-offers.pdf\n"
     ]
    },
    {
     "name": "stderr",
     "output_type": "stream",
     "text": [
      " 93%|█████████▎| 2997/3216 [1:19:16<11:53,  3.26s/it]"
     ]
    },
    {
     "name": "stdout",
     "output_type": "stream",
     "text": [
      "Error downloading https://www.hsbc.com.hkhttps://www.hsbc.com.hk/content/dam/hsbc/hk/vam/pdf/EBSTNC_EXE_SC_2025.pdf: HTTPSConnectionPool(host='www.hsbc.com.hkhttps', port=443): Max retries exceeded with url: /www.hsbc.com.hk/content/dam/hsbc/hk/vam/pdf/EBSTNC_EXE_SC_2025.pdf (Caused by NameResolutionError(\"<urllib3.connection.HTTPSConnection object at 0x000001F022AB4410>: Failed to resolve 'www.hsbc.com.hkhttps' ([Errno 11001] getaddrinfo failed)\"))\n"
     ]
    },
    {
     "name": "stderr",
     "output_type": "stream",
     "text": [
      " 93%|█████████▎| 3000/3216 [1:19:21<07:58,  2.22s/it]"
     ]
    },
    {
     "name": "stdout",
     "output_type": "stream",
     "text": [
      "Error downloading https://www.hsbc.com.hk/content/dam/hsbc/hk/docs/mpf/mfps_feb18.pdf: 404 Client Error: Not Found for url: https://www.hsbc.com.hk/content/dam/hsbc/hk/docs/mpf/mfps_feb18.pdf\n"
     ]
    },
    {
     "name": "stderr",
     "output_type": "stream",
     "text": [
      " 94%|█████████▍| 3015/3216 [1:19:58<15:37,  4.66s/it]"
     ]
    },
    {
     "name": "stdout",
     "output_type": "stream",
     "text": [
      "Error downloading https://www.hsbc.com.hkhttps://www.about.hsbc.com.hk/-/media/hong-kong/zh-hk/news-and-media/210518-hsbc-support-for-ethnic-minority-customers-account-opening.pdf: HTTPSConnectionPool(host='www.hsbc.com.hkhttps', port=443): Max retries exceeded with url: /www.about.hsbc.com.hk/-/media/hong-kong/zh-hk/news-and-media/210518-hsbc-support-for-ethnic-minority-customers-account-opening.pdf (Caused by NameResolutionError(\"<urllib3.connection.HTTPSConnection object at 0x000001F022AB52B0>: Failed to resolve 'www.hsbc.com.hkhttps' ([Errno 11001] getaddrinfo failed)\"))\n"
     ]
    },
    {
     "name": "stderr",
     "output_type": "stream",
     "text": [
      " 95%|█████████▍| 3042/3216 [1:20:53<12:56,  4.46s/it]"
     ]
    },
    {
     "name": "stdout",
     "output_type": "stream",
     "text": [
      "Error downloading https://www.hsbc.com.hkhttps://www.hsbc.com.hk/content/dam/hsbc/hk/tc/docs/credit-cards/everymile/everymile-everyday-spend.pdf: HTTPSConnectionPool(host='www.hsbc.com.hkhttps', port=443): Max retries exceeded with url: /www.hsbc.com.hk/content/dam/hsbc/hk/tc/docs/credit-cards/everymile/everymile-everyday-spend.pdf (Caused by NameResolutionError(\"<urllib3.connection.HTTPSConnection object at 0x000001F022AC0E30>: Failed to resolve 'www.hsbc.com.hkhttps' ([Errno 11001] getaddrinfo failed)\"))\n"
     ]
    },
    {
     "name": "stderr",
     "output_type": "stream",
     "text": [
      " 95%|█████████▍| 3051/3216 [1:21:18<12:36,  4.58s/it]"
     ]
    },
    {
     "name": "stdout",
     "output_type": "stream",
     "text": [
      "Error downloading https://www.hsbc.com.hkhttps://www.foodwisehk.gov.hk/pdf/GPGuide_Residential_zh-hk.pdf: HTTPSConnectionPool(host='www.hsbc.com.hkhttps', port=443): Max retries exceeded with url: /www.foodwisehk.gov.hk/pdf/GPGuide_Residential_zh-hk.pdf (Caused by NameResolutionError(\"<urllib3.connection.HTTPSConnection object at 0x000001F022AC3D10>: Failed to resolve 'www.hsbc.com.hkhttps' ([Errno 11001] getaddrinfo failed)\"))\n"
     ]
    },
    {
     "name": "stderr",
     "output_type": "stream",
     "text": [
      " 95%|█████████▌| 3068/3216 [1:21:59<11:41,  4.74s/it]"
     ]
    },
    {
     "name": "stdout",
     "output_type": "stream",
     "text": [
      "Error downloading https://www.hsbc.com.hkhttps://www.hsbc.com.hk/content/dam/hsbc/hk/vam/pdf/IBB_GetInsuredOnlineChallenge_Jun2024_TC_EN.pdf: HTTPSConnectionPool(host='www.hsbc.com.hkhttps', port=443): Max retries exceeded with url: /www.hsbc.com.hk/content/dam/hsbc/hk/vam/pdf/IBB_GetInsuredOnlineChallenge_Jun2024_TC_EN.pdf (Caused by NameResolutionError(\"<urllib3.connection.HTTPSConnection object at 0x000001F022A84890>: Failed to resolve 'www.hsbc.com.hkhttps' ([Errno 11001] getaddrinfo failed)\"))\n"
     ]
    },
    {
     "name": "stderr",
     "output_type": "stream",
     "text": [
      " 96%|█████████▌| 3077/3216 [1:22:25<11:17,  4.88s/it]"
     ]
    },
    {
     "name": "stdout",
     "output_type": "stream",
     "text": [
      "Error downloading https://www.hsbc.com.hkhttps://cdn.hsbc.com.hk/content/dam/hsbc/hk/docs/investments/stocks/china-a-shares/product-fact-sheet.pdf: HTTPSConnectionPool(host='www.hsbc.com.hkhttps', port=443): Max retries exceeded with url: /cdn.hsbc.com.hk/content/dam/hsbc/hk/docs/investments/stocks/china-a-shares/product-fact-sheet.pdf (Caused by NameResolutionError(\"<urllib3.connection.HTTPSConnection object at 0x000001F022A86270>: Failed to resolve 'www.hsbc.com.hkhttps' ([Errno 11001] getaddrinfo failed)\"))\n"
     ]
    },
    {
     "name": "stderr",
     "output_type": "stream",
     "text": [
      " 96%|█████████▌| 3078/3216 [1:22:37<15:37,  6.79s/it]"
     ]
    },
    {
     "name": "stdout",
     "output_type": "stream",
     "text": [
      "Error downloading https://www.hsbc.com.hkhttps://www.about.hsbc.com.hk/-/media/hong-kong/en/news-and-media/211119-hsbc-warns-against-phishing-email-and-fraudulent-website-eng.pdf: HTTPSConnectionPool(host='www.hsbc.com.hkhttps', port=443): Max retries exceeded with url: /www.about.hsbc.com.hk/-/media/hong-kong/en/news-and-media/211119-hsbc-warns-against-phishing-email-and-fraudulent-website-eng.pdf (Caused by NameResolutionError(\"<urllib3.connection.HTTPSConnection object at 0x000001F022AB6FF0>: Failed to resolve 'www.hsbc.com.hkhttps' ([Errno 11001] getaddrinfo failed)\"))\n"
     ]
    },
    {
     "name": "stderr",
     "output_type": "stream",
     "text": [
      " 96%|█████████▌| 3086/3216 [1:23:00<10:29,  4.84s/it]"
     ]
    },
    {
     "name": "stdout",
     "output_type": "stream",
     "text": [
      "Error downloading https://www.hsbc.com.hkhttps://www.about.hsbc.com.hk/-/media/hong-kong/zh-hk/news-and-media/220719-hsbc-step-up-support-for-customers-facing-mental-health-challenges-cn.pdf: HTTPSConnectionPool(host='www.hsbc.com.hkhttps', port=443): Max retries exceeded with url: /www.about.hsbc.com.hk/-/media/hong-kong/zh-hk/news-and-media/220719-hsbc-step-up-support-for-customers-facing-mental-health-challenges-cn.pdf (Caused by NameResolutionError(\"<urllib3.connection.HTTPSConnection object at 0x000001F022AB4F80>: Failed to resolve 'www.hsbc.com.hkhttps' ([Errno 11001] getaddrinfo failed)\"))\n"
     ]
    },
    {
     "name": "stderr",
     "output_type": "stream",
     "text": [
      " 96%|█████████▌| 3088/3216 [1:23:14<13:14,  6.20s/it]"
     ]
    },
    {
     "name": "stdout",
     "output_type": "stream",
     "text": [
      "Error downloading https://www.hsbc.com.hkhttp://www.mpfa.org.hk/tch/information_centre/publications/booklets_publications/mpf_system/files/DIS_Flyer_Chi.pdf: HTTPSConnectionPool(host='www.hsbc.com.hkhttp', port=443): Max retries exceeded with url: /www.mpfa.org.hk/tch/information_centre/publications/booklets_publications/mpf_system/files/DIS_Flyer_Chi.pdf (Caused by NameResolutionError(\"<urllib3.connection.HTTPSConnection object at 0x000001F022AC16A0>: Failed to resolve 'www.hsbc.com.hkhttp' ([Errno 11001] getaddrinfo failed)\"))\n"
     ]
    },
    {
     "name": "stderr",
     "output_type": "stream",
     "text": [
      " 96%|█████████▋| 3101/3216 [1:23:47<08:43,  4.55s/it]"
     ]
    },
    {
     "name": "stdout",
     "output_type": "stream",
     "text": [
      "Error downloading https://www.hsbc.com.hkhttps://www.irs.gov/pub/irs-pdf/iw8ben.pdf: HTTPSConnectionPool(host='www.hsbc.com.hkhttps', port=443): Max retries exceeded with url: /www.irs.gov/pub/irs-pdf/iw8ben.pdf (Caused by NameResolutionError(\"<urllib3.connection.HTTPSConnection object at 0x000001F022AC0980>: Failed to resolve 'www.hsbc.com.hkhttps' ([Errno 11001] getaddrinfo failed)\"))\n"
     ]
    },
    {
     "name": "stderr",
     "output_type": "stream",
     "text": [
      " 97%|█████████▋| 3111/3216 [1:24:15<08:13,  4.70s/it]"
     ]
    },
    {
     "name": "stdout",
     "output_type": "stream",
     "text": [
      "Error downloading https://www.hsbc.com.hkhttps://www.hsbc.com.hk/content/dam/hsbc/hk/vam/pdf/TC_TC_Wealth_of_Your_Choice_Bonus_Badge.pdf: HTTPSConnectionPool(host='www.hsbc.com.hkhttps', port=443): Max retries exceeded with url: /www.hsbc.com.hk/content/dam/hsbc/hk/vam/pdf/TC_TC_Wealth_of_Your_Choice_Bonus_Badge.pdf (Caused by NameResolutionError(\"<urllib3.connection.HTTPSConnection object at 0x000001F022A86AE0>: Failed to resolve 'www.hsbc.com.hkhttps' ([Errno 11001] getaddrinfo failed)\"))\n"
     ]
    },
    {
     "name": "stderr",
     "output_type": "stream",
     "text": [
      " 98%|█████████▊| 3147/3216 [1:25:27<05:11,  4.52s/it]"
     ]
    },
    {
     "name": "stdout",
     "output_type": "stream",
     "text": [
      "Error downloading https://retailbank.hsbc.com.hkhttps://www.hsbc.com.hk/content/dam/hsbc/hk/vam/pdf/IBB_GetInsuredOnlineChallenge_Jan2025_TC_EN.pdf: HTTPSConnectionPool(host='retailbank.hsbc.com.hkhttps', port=443): Max retries exceeded with url: /www.hsbc.com.hk/content/dam/hsbc/hk/vam/pdf/IBB_GetInsuredOnlineChallenge_Jan2025_TC_EN.pdf (Caused by NameResolutionError(\"<urllib3.connection.HTTPSConnection object at 0x000001F022A8E600>: Failed to resolve 'retailbank.hsbc.com.hkhttps' ([Errno 11001] getaddrinfo failed)\"))\n"
     ]
    },
    {
     "name": "stderr",
     "output_type": "stream",
     "text": [
      " 99%|█████████▉| 3181/3216 [1:26:38<02:40,  4.59s/it]"
     ]
    },
    {
     "name": "stdout",
     "output_type": "stream",
     "text": [
      "Error downloading https://www.hsbc.com.hkhttps://cdn.hsbc.com.hk/content/dam/hsbc/hk/sc/docs/investments/stocks/china-a-shares/product-fact-sheet.pdf: HTTPSConnectionPool(host='www.hsbc.com.hkhttps', port=443): Max retries exceeded with url: /cdn.hsbc.com.hk/content/dam/hsbc/hk/sc/docs/investments/stocks/china-a-shares/product-fact-sheet.pdf (Caused by NameResolutionError(\"<urllib3.connection.HTTPSConnection object at 0x000001F022AB6810>: Failed to resolve 'www.hsbc.com.hkhttps' ([Errno 11001] getaddrinfo failed)\"))\n"
     ]
    },
    {
     "name": "stderr",
     "output_type": "stream",
     "text": [
      " 99%|█████████▉| 3188/3216 [1:27:00<02:13,  4.78s/it]"
     ]
    },
    {
     "name": "stdout",
     "output_type": "stream",
     "text": [
      "Error downloading https://www.hsbc.com.hkhttps://www.hsbc.com.hk/content/dam/hsbc/hk/vam/pdf/EBSLeaflet_EXE_TC_2025.pdf: HTTPSConnectionPool(host='www.hsbc.com.hkhttps', port=443): Max retries exceeded with url: /www.hsbc.com.hk/content/dam/hsbc/hk/vam/pdf/EBSLeaflet_EXE_TC_2025.pdf (Caused by NameResolutionError(\"<urllib3.connection.HTTPSConnection object at 0x000001F022AC2EA0>: Failed to resolve 'www.hsbc.com.hkhttps' ([Errno 11001] getaddrinfo failed)\"))\n"
     ]
    },
    {
     "name": "stderr",
     "output_type": "stream",
     "text": [
      "100%|█████████▉| 3200/3216 [1:27:26<00:56,  3.54s/it]"
     ]
    },
    {
     "name": "stdout",
     "output_type": "stream",
     "text": [
      "Error downloading https://www.hsbc.com.hkhttps://cdn.hsbc.com.hk/content/dam/hsbc/hk/tc/docs/investments/stocks/top-trader-club/local-securities-product-fact-sheet.pdf: HTTPSConnectionPool(host='www.hsbc.com.hkhttps', port=443): Max retries exceeded with url: /cdn.hsbc.com.hk/content/dam/hsbc/hk/tc/docs/investments/stocks/top-trader-club/local-securities-product-fact-sheet.pdf (Caused by NameResolutionError(\"<urllib3.connection.HTTPSConnection object at 0x000001F022AC1B80>: Failed to resolve 'www.hsbc.com.hkhttps' ([Errno 11001] getaddrinfo failed)\"))\n"
     ]
    },
    {
     "name": "stderr",
     "output_type": "stream",
     "text": [
      "100%|██████████| 3216/3216 [1:27:54<00:00,  1.64s/it]"
     ]
    },
    {
     "name": "stdout",
     "output_type": "stream",
     "text": [
      "Error downloading https://www.hsbc.com.hk/content/dam/hsbc/hk/docs/mpf/CPFexample_c.pdf: 404 Client Error: Not Found for url: https://www.hsbc.com.hk/content/dam/hsbc/hk/docs/mpf/CPFexample_c.pdf\n",
      "Download process completed.\n"
     ]
    },
    {
     "name": "stderr",
     "output_type": "stream",
     "text": [
      "\n"
     ]
    }
   ],
   "source": [
    "import requests\n",
    "download_directory = \"transformed_limited_hsbc_site_20250220/datasets/default\"\n",
    "for full_link in tqdm(unique_links_list):\n",
    "    if full_link in skipping_links:\n",
    "        continue\n",
    "    parsed_url:ParseResult = urlparse(full_link)\n",
    "    path_segments = parsed_url.path.split('/')\n",
    "    if len(path_segments) > 1:\n",
    "        catalog=path_segments[1]\n",
    "    else:\n",
    "        netloc = parsed_url.netloc\n",
    "        domain_parts = netloc.split('.')\n",
    "        if len(domain_parts) > 1:\n",
    "            catalog = domain_parts[0]\n",
    "        else:\n",
    "            catalog = netloc\n",
    "    file_path = parsed_url.path\n",
    "\n",
    "    if file_path.startswith('/'):\n",
    "        file_path = file_path[1:]\n",
    "    save_path = os.path.join(download_directory, file_path)\n",
    "    if os.path.exists(save_path):\n",
    "        continue\n",
    "    try:\n",
    "        response = requests.get(full_link, stream=True) \n",
    "        response.raise_for_status() \n",
    "\n",
    "        if not os.path.exists(os.path.dirname(save_path)):\n",
    "            os.makedirs(os.path.dirname(save_path), exist_ok=True)\n",
    "\n",
    "        if os.path.exists(save_path):\n",
    "            save_path=f\"{catalog}/{save_path}\"\n",
    "        try:\n",
    "            with open(save_path, 'wb') as file: \n",
    "                for chunk in response.iter_content(chunk_size=8192):\n",
    "                    file.write(chunk)\n",
    "        except Exception as e:\n",
    "            print(f\"Error saving {full_link} to {save_path}: {e}\")\n",
    "\n",
    "        # print(f\"Downloaded: {full_link} -> Saved to: {save_path}\")\n",
    "\n",
    "    except requests.exceptions.RequestException as e:\n",
    "        print(f\"Error downloading {full_link}: {e}\")\n",
    "        skipping_links.append(full_link)\n",
    "\n",
    "print(\"Download process completed.\")"
   ]
  },
  {
   "cell_type": "code",
   "execution_count": 25,
   "metadata": {},
   "outputs": [
    {
     "data": {
      "text/plain": [
       "(True, False)"
      ]
     },
     "execution_count": 25,
     "metadata": {},
     "output_type": "execute_result"
    }
   ],
   "source": [
    "os.path.exists(os.path.dirname(save_path)),os.path.exists(save_path)"
   ]
  }
 ],
 "metadata": {
  "kernelspec": {
   "display_name": "p311",
   "language": "python",
   "name": "python3"
  },
  "language_info": {
   "codemirror_mode": {
    "name": "ipython",
    "version": 3
   },
   "file_extension": ".py",
   "mimetype": "text/x-python",
   "name": "python",
   "nbconvert_exporter": "python",
   "pygments_lexer": "ipython3",
   "version": "3.12.4"
  }
 },
 "nbformat": 4,
 "nbformat_minor": 2
}
