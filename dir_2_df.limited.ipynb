{
 "cells": [
  {
   "cell_type": "code",
   "execution_count": 1,
   "metadata": {},
   "outputs": [],
   "source": [
    "import pandas as pd\n",
    "import os\n",
    "import json\n",
    "import re\n",
    "from tqdm import tqdm"
   ]
  },
  {
   "cell_type": "code",
   "execution_count": 2,
   "metadata": {},
   "outputs": [
    {
     "name": "stderr",
     "output_type": "stream",
     "text": [
      "100%|██████████| 95/95 [00:03<00:00, 23.97it/s] "
     ]
    },
    {
     "name": "stdout",
     "output_type": "stream",
     "text": [
      "DataFrame created successfully.\n"
     ]
    },
    {
     "name": "stderr",
     "output_type": "stream",
     "text": [
      "\n"
     ]
    }
   ],
   "source": [
    "folder_path = \"transformed_limited_hsbc_site_20250220/datasets/default\"\n",
    "output_file = \"hsbc_site_20250220.limited.pickle\"\n",
    "data_rows = []\n",
    "try:\n",
    "    files = os.listdir(folder_path)\n",
    "    for filename in tqdm(files):\n",
    "        try:\n",
    "            if filename.endswith(\".json\") and filename != \"__metadata__.json\" and re.match(r\"^\\d+\\.json$\", filename):\n",
    "                file_path = os.path.join(folder_path, filename)\n",
    "                try:\n",
    "                    with open(file_path, 'r') as f:\n",
    "                        data = json.load(f)\n",
    "                    data_rows.append(data)\n",
    "                except json.JSONDecodeError as e:\n",
    "                    print(f\"Error decoding JSON in file: {filename}. Error: {e}\")\n",
    "        except Exception as e:\n",
    "            print(f\"An error occurred while processing file: {filename}. Error: {e}\")\n",
    "except FileNotFoundError:\n",
    "    print(f\"Folder not found: {folder_path}\")\n",
    "except Exception as e:\n",
    "    print(f\"An error occurred at: {e}\")\n",
    "if data_rows:\n",
    "    combined_df = pd.DataFrame(data_rows)\n",
    "    print(\"DataFrame created successfully.\")\n",
    "    combined_df.to_pickle(output_file)\n",
    "else:\n",
    "    print(\"No valid JSON files found to create DataFrame.\")"
   ]
  }
 ],
 "metadata": {
  "kernelspec": {
   "display_name": "p311",
   "language": "python",
   "name": "python3"
  },
  "language_info": {
   "codemirror_mode": {
    "name": "ipython",
    "version": 3
   },
   "file_extension": ".py",
   "mimetype": "text/x-python",
   "name": "python",
   "nbconvert_exporter": "python",
   "pygments_lexer": "ipython3",
   "version": "3.12.4"
  }
 },
 "nbformat": 4,
 "nbformat_minor": 2
}
