{
 "cells": [
  {
   "cell_type": "code",
   "execution_count": 1,
   "metadata": {},
   "outputs": [],
   "source": [
    "import pandas as pd\n",
    "import os\n",
    "import json\n",
    "import re\n",
    "from tqdm import tqdm\n",
    "from bs4 import BeautifulSoup\n",
    "from urllib.parse import urlparse\n",
    "from urllib.parse import ParseResult"
   ]
  },
  {
   "cell_type": "code",
   "execution_count": 2,
   "metadata": {},
   "outputs": [
    {
     "data": {
      "text/html": [
       "<div>\n",
       "<style scoped>\n",
       "    .dataframe tbody tr th:only-of-type {\n",
       "        vertical-align: middle;\n",
       "    }\n",
       "\n",
       "    .dataframe tbody tr th {\n",
       "        vertical-align: top;\n",
       "    }\n",
       "\n",
       "    .dataframe thead th {\n",
       "        text-align: right;\n",
       "    }\n",
       "</style>\n",
       "<table border=\"1\" class=\"dataframe\">\n",
       "  <thead>\n",
       "    <tr style=\"text-align: right;\">\n",
       "      <th></th>\n",
       "      <th>catalog</th>\n",
       "      <th>files_links</th>\n",
       "      <th>url</th>\n",
       "      <th>title</th>\n",
       "      <th>content</th>\n",
       "    </tr>\n",
       "  </thead>\n",
       "  <tbody>\n",
       "    <tr>\n",
       "      <th>0</th>\n",
       "      <td>accounts</td>\n",
       "      <td>[/content/dam/hsbc/hk/docs/premier/accounts-co...</td>\n",
       "      <td>https://www.hsbc.com.hk/accounts/</td>\n",
       "      <td>Bank Accounts | Savings, Current, Time Deposit...</td>\n",
       "      <td>&lt;!DOCTYPE html&gt;&lt;html lang=\"en-hk\" dir=\"ltr\" it...</td>\n",
       "    </tr>\n",
       "  </tbody>\n",
       "</table>\n",
       "</div>"
      ],
      "text/plain": [
       "    catalog                                        files_links  \\\n",
       "0  accounts  [/content/dam/hsbc/hk/docs/premier/accounts-co...   \n",
       "\n",
       "                                 url  \\\n",
       "0  https://www.hsbc.com.hk/accounts/   \n",
       "\n",
       "                                               title  \\\n",
       "0  Bank Accounts | Savings, Current, Time Deposit...   \n",
       "\n",
       "                                             content  \n",
       "0  <!DOCTYPE html><html lang=\"en-hk\" dir=\"ltr\" it...  "
      ]
     },
     "execution_count": 2,
     "metadata": {},
     "output_type": "execute_result"
    }
   ],
   "source": [
    "pickle_file = \"hsbc_site_20250220.limited.pickle\"\n",
    "df:pd.DataFrame=pd.read_pickle(pickle_file)\n",
    "df.head(1)"
   ]
  },
  {
   "cell_type": "code",
   "execution_count": 3,
   "metadata": {},
   "outputs": [
    {
     "name": "stderr",
     "output_type": "stream",
     "text": [
      "100%|██████████| 95/95 [00:07<00:00, 12.78it/s]\n"
     ]
    }
   ],
   "source": [
    "documents=[]\n",
    "for index, row in tqdm(df.iterrows(), total=df.shape[0]):\n",
    "    content=row['content']\n",
    "    soup = BeautifulSoup(content, 'html.parser')\n",
    "    content_selectors = [\n",
    "        'main'\n",
    "        '.row transparent-bg intro-section hero-remove-height',\n",
    "        'body'                      \n",
    "    ]\n",
    "    main_content = None\n",
    "    for selector in content_selectors:\n",
    "        elements = soup.select(selector)\n",
    "        if elements:\n",
    "            main_content = elements[0]\n",
    "            break\n",
    "\n",
    "    if not main_content:\n",
    "        continue\n",
    "\n",
    "    paragraphs = main_content.find_all('p')\n",
    "    headings = main_content.find_all(['h1', 'h2', 'h3', 'h4', 'h5', 'h6'])\n",
    "    lists = main_content.find_all(['ul', 'ol'])\n",
    "\n",
    "    extracted_sections = []\n",
    "    for heading in headings:\n",
    "        extracted_sections.append({\"type\": \"heading\", \"text\": heading.get_text().strip()})\n",
    "    for p in paragraphs:\n",
    "        extracted_sections.append({\"type\": \"paragraph\", \"text\": p.get_text().strip()})\n",
    "    for lst in lists:\n",
    "        list_items = [li.get_text().strip() for li in lst.find_all('li')]\n",
    "        extracted_sections.append({\"type\": \"list\", \"items\": list_items})\n",
    "\n",
    "    cleaned_text_sections = []\n",
    "    for section in extracted_sections:\n",
    "        if section[\"type\"] in (\"paragraph\", \"heading\"):\n",
    "            text = section[\"text\"]\n",
    "            text = text.strip()\n",
    "            text = re.sub(r'\\s+', ' ', text)\n",
    "            cleaned_text_sections.append({\"type\": section[\"type\"], \"text\": text})\n",
    "        elif section[\"type\"] == \"list\":\n",
    "            cleaned_items = []\n",
    "            for item in section[\"items\"]:\n",
    "                item = item.strip()\n",
    "                item = re.sub(r'\\s+', ' ', item)\n",
    "                cleaned_items.append(item)\n",
    "            cleaned_text_sections.append({\"type\": \"list\", \"items\": cleaned_items})\n",
    "    documents.append(cleaned_text_sections)\n",
    "    pass"
   ]
  },
  {
   "cell_type": "code",
   "execution_count": 4,
   "metadata": {},
   "outputs": [],
   "source": [
    "df['documents']=documents\n",
    "df.to_pickle(pickle_file)"
   ]
  }
 ],
 "metadata": {
  "kernelspec": {
   "display_name": "p311",
   "language": "python",
   "name": "python3"
  },
  "language_info": {
   "codemirror_mode": {
    "name": "ipython",
    "version": 3
   },
   "file_extension": ".py",
   "mimetype": "text/x-python",
   "name": "python",
   "nbconvert_exporter": "python",
   "pygments_lexer": "ipython3",
   "version": "3.12.4"
  }
 },
 "nbformat": 4,
 "nbformat_minor": 2
}
